{
 "cells": [
  {
   "cell_type": "code",
   "execution_count": 3,
   "id": "a99f6849-5f05-45d4-86f5-af52b2f867d4",
   "metadata": {},
   "outputs": [],
   "source": [
    "#python arrays programs"
   ]
  },
  {
   "cell_type": "code",
   "execution_count": 7,
   "id": "ff043ac9-5c76-4a79-9fb6-9ef2f899a713",
   "metadata": {},
   "outputs": [
    {
     "name": "stdout",
     "output_type": "stream",
     "text": [
      "summed arr: 15 of [1, 2, 3, 4, 5]\n"
     ]
    }
   ],
   "source": [
    "def sum_of_arrays(arr):\n",
    "    sums = 0\n",
    "    for num in arr:\n",
    "        sums += num\n",
    "    return sums\n",
    "\n",
    "# array \n",
    "arr = [1,2,3,4,5]\n",
    "\n",
    "#Display the sum of array\n",
    "print(f'summed arr: {sum_of_arrays(arr)} of {arr}')"
   ]
  },
  {
   "cell_type": "code",
   "execution_count": 10,
   "id": "7b0c1ed4-d31a-4084-a225-5be30a47b9ec",
   "metadata": {},
   "outputs": [
    {
     "name": "stdout",
     "output_type": "stream",
     "text": [
      " largest element in the array was :5 of [1, 2, 3, 4, 5]\n"
     ]
    }
   ],
   "source": [
    "# find the largest element in the array\n",
    "def largestElement(arr):\n",
    "    maxElement = arr[0]\n",
    "    for num in arr:\n",
    "        if num > maxElement:\n",
    "            maxElement = num\n",
    "    return maxElement\n",
    "arr = [1,2,3,4,5]\n",
    "print(f' largest element in the array was :{largestElement(arr)} of {arr}')\n"
   ]
  },
  {
   "cell_type": "code",
   "execution_count": 34,
   "id": "19b26f47-1678-4227-9383-6708dafcef1a",
   "metadata": {},
   "outputs": [
    {
     "name": "stdout",
     "output_type": "stream",
     "text": [
      "5 length of array\n",
      "1 after modulu start index\n"
     ]
    },
    {
     "data": {
      "text/plain": [
       "[2, 3, 4, 5, 1]"
      ]
     },
     "execution_count": 34,
     "metadata": {},
     "output_type": "execute_result"
    }
   ],
   "source": [
    "# python program for array rotation\n",
    "def rotateArr(arr,d):\n",
    "    n = len(arr)\n",
    "    print(n, 'length of array')\n",
    "    d = d % n\n",
    "    print(d,'after modulu start index')\n",
    "    arr[:] = arr[d:] + arr[:d]\n",
    "    return arr\n",
    "\n",
    "arr = [1,2,3,4,5]\n",
    "indexSliceFrom = 1\n",
    "d = indexSliceFrom\n",
    "rotateArr(arr,d)"
   ]
  },
  {
   "cell_type": "code",
   "execution_count": 38,
   "id": "63b7c60f-c90c-47a6-b0e6-bf5fcd4ed35b",
   "metadata": {},
   "outputs": [
    {
     "data": {
      "text/plain": [
       "[3, 4, 5, 6, 1, 2]"
      ]
     },
     "execution_count": 38,
     "metadata": {},
     "output_type": "execute_result"
    }
   ],
   "source": [
    "#python program to split the array and add the array to the end\n",
    "def split_add(arr, k):\n",
    "    n = len(arr)\n",
    "    cut= k % n\n",
    "    arr[:] = arr[cut:] + arr[ :cut]\n",
    "    return arr\n",
    "arr = [1,2,3,4,5,6]\n",
    "k = 2\n",
    "split_add(arr,k)\n",
    "    "
   ]
  },
  {
   "cell_type": "code",
   "execution_count": 43,
   "id": "3076cc94-bbc8-41fa-b1e3-144eb115fcef",
   "metadata": {},
   "outputs": [
    {
     "name": "stdout",
     "output_type": "stream",
     "text": [
      "The remainder of array multiplication by n 13 is 3\n"
     ]
    }
   ],
   "source": [
    "# python program to find the remainder of array multiplication\n",
    "def remainder_multiplication_of_arr(arr,n):\n",
    "    result = 1\n",
    "    for num in arr:\n",
    "        result = (result * num) % n\n",
    "    return result\n",
    "\n",
    "#example array\n",
    "arr = [100,34,45]\n",
    "#divisor \n",
    "n=13\n",
    "\n",
    "#display the remainder\n",
    "print(f\"The remainder of array multiplication by n {n} is {remainder_multiplication_of_arr(arr,n)}\")"
   ]
  },
  {
   "cell_type": "code",
   "execution_count": 61,
   "id": "0685962d-1b51-4f32-b86e-972f6676c769",
   "metadata": {},
   "outputs": [
    {
     "name": "stdout",
     "output_type": "stream",
     "text": [
      "The current index i: 1\n",
      "\n",
      "Current index value of i in Array: 6\n",
      "The current index i: 2\n",
      "\n",
      "Current index value of i in Array: 5\n",
      "The current index i: 3\n",
      "\n",
      "Current index value of i in Array: 5\n",
      "The current index i: 4\n",
      "\n",
      "Current index value of i in Array: 4\n",
      "\n",
      "monotonic array\n"
     ]
    }
   ],
   "source": [
    "# Python program to check if array is monotonic or not\n",
    "def is_monotonic(arr):\n",
    "    increasing = decreasing = True\n",
    "    for i in range(1,len(arr)):\n",
    "        print(f'The current index i: {i}')\n",
    "        print(f'\\nCurrent index value of i in Array: {arr[i]}')\n",
    "        if arr[i] > arr[i-1]:\n",
    "            decreasing = False\n",
    "        elif arr[i] < arr[i-1]:\n",
    "            increasing = False\n",
    "    return increasing or decreasing\n",
    "#arr = [100,34,45] # not monotonic array\n",
    "\n",
    "#monotonic array with some equal values\n",
    "\n",
    "arr = [6,6,5,5,4]\n",
    "\n",
    "# check monotonic\n",
    "if is_monotonic(arr):\n",
    "    print('\\nmonotonic array')\n",
    "else:\n",
    "    print('\\nnot monotonic array')"
   ]
  },
  {
   "cell_type": "code",
   "execution_count": null,
   "id": "83e8c9da-e3cf-446e-b7f4-d7c0d5f78ebb",
   "metadata": {},
   "outputs": [],
   "source": []
  },
  {
   "cell_type": "code",
   "execution_count": 78,
   "id": "68953f5a-6a36-47f7-b51d-03a6b34e5f90",
   "metadata": {},
   "outputs": [
    {
     "name": "stdout",
     "output_type": "stream",
     "text": [
      "[2, 1, 3, 4, 5, 6, 7]\n"
     ]
    }
   ],
   "source": [
    "# alogorithm behind array reversal\n",
    "# reverse array function\n",
    "def reverse_array(arr, start, end):\n",
    "    while start < end:\n",
    "        arr[start], arr[end] = arr[end], arr[start]\n",
    "        start= start + 1\n",
    "        end = end - 1\n",
    "\n",
    "#function to rotate array by d element to the left using reversal algorithm\n",
    "\n",
    "def rotate_array(arr, d):\n",
    "    n = len(arr)\n",
    "    reverse_array(arr, 0, d-1)\n",
    "    #reverse_array(arr, d, n-1)\n",
    "    #reverse_array(arr, 0, n-1)\n",
    "#eg array\n",
    "arr = [1,2,3,4,5,6,7]\n",
    "\n",
    "#number of rotation\n",
    "d = 2\n",
    "\n",
    "#rotate array\n",
    "rotate_array(arr,2)\n",
    "print(arr)"
   ]
  },
  {
   "cell_type": "code",
   "execution_count": null,
   "id": "beae7843-77e4-4a96-bfc3-1c71469130a8",
   "metadata": {},
   "outputs": [],
   "source": []
  },
  {
   "cell_type": "code",
   "execution_count": null,
   "id": "7190084b-9085-4dc8-9820-432bbbf92d6e",
   "metadata": {},
   "outputs": [],
   "source": []
  },
  {
   "cell_type": "code",
   "execution_count": null,
   "id": "ea5f9eaa-3d7f-4898-bb5a-ac56859e73cb",
   "metadata": {},
   "outputs": [],
   "source": []
  },
  {
   "cell_type": "code",
   "execution_count": null,
   "id": "6a4a1706-96da-4722-b5a4-b309d62bdbf0",
   "metadata": {},
   "outputs": [],
   "source": []
  },
  {
   "cell_type": "code",
   "execution_count": null,
   "id": "6e4cfbea-76e6-4a8e-9f2b-7e5f20630ef6",
   "metadata": {},
   "outputs": [],
   "source": []
  },
  {
   "cell_type": "code",
   "execution_count": null,
   "id": "d3d87c54-1331-4e90-9445-7e0237cff3ae",
   "metadata": {},
   "outputs": [],
   "source": []
  },
  {
   "cell_type": "code",
   "execution_count": null,
   "id": "2297aa9a-fff3-4be3-ac1a-641b7c99a357",
   "metadata": {},
   "outputs": [],
   "source": []
  },
  {
   "cell_type": "code",
   "execution_count": null,
   "id": "d5ab1000-9459-40a9-99b4-d026011ffaea",
   "metadata": {},
   "outputs": [],
   "source": []
  },
  {
   "cell_type": "code",
   "execution_count": null,
   "id": "e0d5ba3b-cadc-4c78-b523-37f8b85a36ce",
   "metadata": {},
   "outputs": [],
   "source": []
  },
  {
   "cell_type": "code",
   "execution_count": null,
   "id": "b9b77671-f618-4753-baa4-e21411165398",
   "metadata": {},
   "outputs": [],
   "source": []
  },
  {
   "cell_type": "code",
   "execution_count": null,
   "id": "ec2e6402-c70c-420c-8281-8327a65459a7",
   "metadata": {},
   "outputs": [],
   "source": []
  }
 ],
 "metadata": {
  "kernelspec": {
   "display_name": "Python 3 (ipykernel)",
   "language": "python",
   "name": "python3"
  },
  "language_info": {
   "codemirror_mode": {
    "name": "ipython",
    "version": 3
   },
   "file_extension": ".py",
   "mimetype": "text/x-python",
   "name": "python",
   "nbconvert_exporter": "python",
   "pygments_lexer": "ipython3",
   "version": "3.13.5"
  }
 },
 "nbformat": 4,
 "nbformat_minor": 5
}
