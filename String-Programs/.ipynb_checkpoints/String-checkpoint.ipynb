{
 "cells": [
  {
   "cell_type": "code",
   "execution_count": 59,
   "id": "0cfb4ed6-762c-4b1d-8913-509b3287f17e",
   "metadata": {},
   "outputs": [
    {
     "name": "stdout",
     "output_type": "stream",
     "text": [
      "Odd lenght string\n",
      " h e l l     o \n"
     ]
    }
   ],
   "source": [
    "#Python program to print even lenght of words in a string \n",
    "\n",
    "def even_length_odd_string(arg:str)->str:\n",
    "    '''Returns True if lenght % 2 == 0 else False'''\n",
    "    lenCheck = len(arg)\n",
    "    if lenCheck % 2 ==0:\n",
    "        return True\n",
    "    else:\n",
    "        return False\n",
    "str_test = \"hell  o\"\n",
    "even_odd_check = even_length_odd_string(str_test)\n",
    "if even_odd_check:\n",
    "    print(\"This is an even lenght string\")\n",
    "else:\n",
    "    print(\"Odd lenght string\")\n",
    "#print(str_test.replace(' ',''))"
   ]
  },
  {
   "cell_type": "code",
   "execution_count": 72,
   "id": "e8fb9140-6f7e-4da5-8343-f880c9d76f66",
   "metadata": {},
   "outputs": [
    {
     "name": "stdout",
     "output_type": "stream",
     "text": [
      "this char: --> S occured this: --> 7 times\n"
     ]
    },
    {
     "data": {
      "text/plain": [
       "'s'"
      ]
     },
     "execution_count": 72,
     "metadata": {},
     "output_type": "execute_result"
    }
   ],
   "source": [
    "#Python program to check maximum frequency or repeating character in String\n",
    "def max_freq_char(args):\n",
    "    freq = {}\n",
    "    for char in args.replace(' ',''):\n",
    "        if char not in freq:\n",
    "            freq[char] = 1\n",
    "        else:\n",
    "            freq[char] += 1\n",
    "\n",
    "    max_freq = max(freq.values())\n",
    "    max_char = ''\n",
    "    for k, v in freq.items():\n",
    "        if v == max_freq:\n",
    "            max_char = k\n",
    "            print(f'this char: --> {k.upper()} occured this: --> {v} times')\n",
    "            break\n",
    "    return max_char\n",
    "        \n",
    "\n",
    "str_test = \"hello hi wha  asdsad    asdsadas   sdsdt\"\n",
    "max_freq_char(str_test)"
   ]
  },
  {
   "cell_type": "code",
   "execution_count": 73,
   "id": "546d1886-b309-430c-94b6-b304ba103d09",
   "metadata": {},
   "outputs": [
    {
     "data": {
      "text/plain": [
       "'lenght of the string is 7'"
      ]
     },
     "execution_count": 73,
     "metadata": {},
     "output_type": "execute_result"
    }
   ],
   "source": [
    "#Python program to find the lenght of the string\n",
    "def len_of_str(string):\n",
    "    res = len(string)\n",
    "    return f'lenght of the string is {res}'\n",
    "\n",
    "str_test = \"hell  o\"\n",
    "len_of_str(str_test)"
   ]
  },
  {
   "cell_type": "code",
   "execution_count": 96,
   "id": "0fe520a2-e449-4c87-8c6d-6673b116e512",
   "metadata": {},
   "outputs": [
    {
     "name": "stdout",
     "output_type": "stream",
     "text": [
      "Uncommon words from two string:  {'Tassang', 'tassang'}\n"
     ]
    }
   ],
   "source": [
    "#Python program to find uncommon words from two strings\n",
    "def find_uncommon_words(str1,str2):\n",
    "    words1 = set(str1.split())\n",
    "    words2 = set(str2.split())\n",
    "    uncommon_words = words1.symmetric_difference(words2)\n",
    "    return uncommon_words\n",
    "\n",
    "str1 = \"hi tassang\"\n",
    "str2 = \"hi Tassang\"\n",
    "res = find_uncommon_words(str1, str2)\n",
    "print('Uncommon words from two string: ',res)"
   ]
  },
  {
   "cell_type": "code",
   "execution_count": 111,
   "id": "56122467-3d76-4ac5-abf1-cbe36d44f175",
   "metadata": {},
   "outputs": [
    {
     "name": "stdout",
     "output_type": "stream",
     "text": [
      "after removed dups from string:  abrcd\n"
     ]
    }
   ],
   "source": [
    "#python program to remove all duplicate from two string\n",
    "def remove_dups_char(remDups):\n",
    "    unq_char = []\n",
    "    new_str = ''\n",
    "    for char in remDups:\n",
    "        if char not in unq_char:\n",
    "            unq_char.append(char)\n",
    "    return new_str.join(unq_char)\n",
    "\n",
    "words = 'abracadabra'\n",
    "r = remove_dups_char(words)\n",
    "print('after removed dups from string: ', r)"
   ]
  },
  {
   "cell_type": "code",
   "execution_count": 115,
   "id": "0a7a9beb-7dd6-46f4-979a-3bc601aeaafc",
   "metadata": {},
   "outputs": [
    {
     "name": "stdout",
     "output_type": "stream",
     "text": [
      "words lenght greater than given k--> 5 size are ['Atomic', 'pattern']\n"
     ]
    }
   ],
   "source": [
    "#python program to find words greater than given lenght k\n",
    "def greater_than_k_len(words,k):\n",
    "    words = words.split()\n",
    "    result = [word for word in words if len(word) > k]\n",
    "    return result\n",
    "\n",
    "#string \n",
    "some_words = \"Atomic habit is a great book to teach you about your human habit pattern\"\n",
    "k = 5\n",
    "result = greater_than_k_len(some_words, k)\n",
    "print(f'words lenght greater than given k--> {k} size are {result}')"
   ]
  },
  {
   "cell_type": "code",
   "execution_count": 1,
   "id": "12b81e45-2a43-467b-8d68-64ba3d134adf",
   "metadata": {},
   "outputs": [
    {
     "name": "stdout",
     "output_type": "stream",
     "text": [
      "dups char were:  ['l', 'o']\n"
     ]
    }
   ],
   "source": [
    "#python program to find all duplicate character in string\n",
    "def find_all_dups(string):\n",
    "    freq = {}\n",
    "    dups = []\n",
    "    for char in string.replace(\" \",\"\"):\n",
    "        if char in freq: #wihtout using not in so else block handle setting it\n",
    "            freq[char] += 1\n",
    "        else:\n",
    "            freq[char] = 1\n",
    "    for k,v in freq.items():\n",
    "        if v >1:\n",
    "             dups.append(k) \n",
    "\n",
    "    return dups\n",
    "\n",
    "string = \"hello worlds\"\n",
    "r = find_all_dups(string)\n",
    "print('dups char were: ', r)"
   ]
  },
  {
   "cell_type": "code",
   "execution_count": 23,
   "id": "307e4a8c-831b-4ed8-9dfb-13a9c04a496f",
   "metadata": {},
   "outputs": [
    {
     "data": {
      "text/plain": [
       "'hel*ow*r*d'"
      ]
     },
     "execution_count": 23,
     "metadata": {},
     "output_type": "execute_result"
    }
   ],
   "source": [
    "#Python program to replace duplicate occurence char in string\n",
    "def replace_dup_char(string):\n",
    "    seen = set()\n",
    "    replaced_str = []\n",
    "    for char in string.replace(\" \",''):\n",
    "        if char not in seen:\n",
    "            seen.add(char)\n",
    "            replaced_str.append(char)\n",
    "        else:\n",
    "            replaced_str.append(\"*\")\n",
    "    return \"\".join(replaced_str)\n",
    "\n",
    "check = \"hello world\"\n",
    "replace_dup_char(check)"
   ]
  },
  {
   "cell_type": "code",
   "execution_count": 25,
   "id": "fa18f6fd-17a4-48ba-aaf7-767b06946e3e",
   "metadata": {},
   "outputs": [
    {
     "name": "stdout",
     "output_type": "stream",
     "text": [
      "sub string is present\n"
     ]
    }
   ],
   "source": [
    "#Python program to check if substring is present in a given string\n",
    "def is_sub_string(string, subStr):\n",
    "    if subStr in string:\n",
    "        return True\n",
    "    else:\n",
    "        return False\n",
    "check = \"hello world\"\n",
    "sub_str = 'world'\n",
    "is_sub_string(check, sub_str)\n",
    "if is_sub_string:\n",
    "    print('sub string is present')\n",
    "else:\n",
    "    print('substring is not present')"
   ]
  }
 ],
 "metadata": {
  "kernelspec": {
   "display_name": "Python 3 (ipykernel)",
   "language": "python",
   "name": "python3"
  },
  "language_info": {
   "codemirror_mode": {
    "name": "ipython",
    "version": 3
   },
   "file_extension": ".py",
   "mimetype": "text/x-python",
   "name": "python",
   "nbconvert_exporter": "python",
   "pygments_lexer": "ipython3",
   "version": "3.13.5"
  }
 },
 "nbformat": 4,
 "nbformat_minor": 5
}
