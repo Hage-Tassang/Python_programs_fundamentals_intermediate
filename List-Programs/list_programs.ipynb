{
 "cells": [
  {
   "cell_type": "code",
   "execution_count": 15,
   "id": "cc34623a-5c41-4ed3-81bc-355d3e35ae1f",
   "metadata": {},
   "outputs": [
    {
     "data": {
      "text/plain": [
       "[-5, -4, -3, -2, -1]"
      ]
     },
     "execution_count": 15,
     "metadata": {},
     "output_type": "execute_result"
    }
   ],
   "source": [
    "#python program to find all negative numbers from given set of range\n",
    "\n",
    "def print_negative_nums(strt,end):\n",
    "    negative_nums = []\n",
    "    for nums in range(strt, end + 1):\n",
    "        if nums < 0:\n",
    "            negative_nums.append(nums)\n",
    "    return negative_nums\n",
    "\n",
    "start = -5\n",
    "end = 5\n",
    "print_negative_nums(start, end)"
   ]
  },
  {
   "cell_type": "code",
   "execution_count": 21,
   "id": "d07ffeee-2c61-429f-8b4e-b04aacb376b1",
   "metadata": {},
   "outputs": [
    {
     "data": {
      "text/plain": [
       "[1, 2, 3, 4, 5]"
      ]
     },
     "execution_count": 21,
     "metadata": {},
     "output_type": "execute_result"
    }
   ],
   "source": [
    "#python program to find all positive numbers from given set of range\n",
    "\n",
    "def print_positive_nums(strt,end):\n",
    "    positive_nums = []\n",
    "    for nums in range(strt, end + 1):\n",
    "        if nums > 0:\n",
    "            positive_nums.append(nums)\n",
    "    return positive_nums\n",
    "\n",
    "start = -5\n",
    "end = 5\n",
    "print_positive_nums(start, end)"
   ]
  },
  {
   "cell_type": "code",
   "execution_count": 22,
   "id": "d858f2a9-4aa2-417f-914c-563cf84b6098",
   "metadata": {},
   "outputs": [
    {
     "data": {
      "text/plain": [
       "[1, 2, 3, 1]"
      ]
     },
     "execution_count": 22,
     "metadata": {},
     "output_type": "execute_result"
    }
   ],
   "source": [
    "#python program to print all nth positive number from a list\n",
    "def n_positives(nth):\n",
    "    temp = []\n",
    "    for n in nth:\n",
    "        if n > 0:\n",
    "            temp.append(n)\n",
    "    return temp\n",
    "\n",
    "li = [1,2,3,-2,-2,-5,-6,-7,1,-3,-7]\n",
    "n_positives(li)"
   ]
  },
  {
   "cell_type": "code",
   "execution_count": 25,
   "id": "ca148e94-6490-4fa0-a9a7-0d55feb47943",
   "metadata": {},
   "outputs": [
    {
     "data": {
      "text/plain": [
       "[-2, -2, -5, -6, -7, -3, -7]"
      ]
     },
     "execution_count": 25,
     "metadata": {},
     "output_type": "execute_result"
    }
   ],
   "source": [
    "#python program to print all nth positive number from a list\n",
    "def n_negatives(nth):\n",
    "    temp = []\n",
    "    for n in nth:\n",
    "        if n < 0:\n",
    "            temp.append(n)\n",
    "    return temp\n",
    "\n",
    "li = [1,2,3,-2,-2,-5,-6,-7,1,-3,-7]\n",
    "n_negatives(li)"
   ]
  },
  {
   "cell_type": "code",
   "execution_count": 91,
   "id": "03fcc7a2-296e-4711-b80d-461377dccf0b",
   "metadata": {},
   "outputs": [
    {
     "data": {
      "text/plain": [
       "[2, 6]"
      ]
     },
     "execution_count": 91,
     "metadata": {},
     "output_type": "execute_result"
    }
   ],
   "source": [
    "#Python program to print all even number in the given range\n",
    "def evn_num(nums):\n",
    "    evn = []\n",
    "    for num in nums:\n",
    "        if (num > 0) and num % 2==0 :\n",
    "            evn.append(num)\n",
    "    return evn\n",
    "\n",
    "li = [1,2,3,-2,-2,-5,-6,-7,1,-3,-7,6]\n",
    "evn_num(li)"
   ]
  },
  {
   "cell_type": "code",
   "execution_count": 93,
   "id": "13881fdb-93e2-4672-bfef-5a2e50da13d7",
   "metadata": {},
   "outputs": [
    {
     "data": {
      "text/plain": [
       "[1, 3, 1]"
      ]
     },
     "execution_count": 93,
     "metadata": {},
     "output_type": "execute_result"
    }
   ],
   "source": [
    "#Python program to print all odd number in the given range\n",
    "def odd_num(nums):\n",
    "    odds = []\n",
    "    for num in nums:\n",
    "        if (num > 0) and num % 2!=0 :\n",
    "            odds.append(num)\n",
    "    return odds\n",
    "\n",
    "li = [1,2,3,-2,-2,-5,-6,-7,1,-3,-7,6]\n",
    "evn_num(li)"
   ]
  },
  {
   "cell_type": "code",
   "execution_count": 95,
   "id": "afc4972a-5287-448f-988a-8e61c969ce5d",
   "metadata": {},
   "outputs": [
    {
     "data": {
      "text/plain": [
       "[2, 4, 6, 8, 10]"
      ]
     },
     "execution_count": 95,
     "metadata": {},
     "output_type": "execute_result"
    }
   ],
   "source": [
    "#Python program to print all even number in the given range\n",
    "def evn_num2(s, e):\n",
    "    evn = []\n",
    "    for num in range(s,e+1):\n",
    "        if (num > 0) and num % 2==0 :\n",
    "            evn.append(num)\n",
    "    return evn\n",
    "\n",
    "s,e=-5,10\n",
    "evn_num2(s, e)\n"
   ]
  },
  {
   "cell_type": "code",
   "execution_count": 98,
   "id": "9361c70e-1fff-428e-b68a-b968e6180f89",
   "metadata": {},
   "outputs": [
    {
     "data": {
      "text/plain": [
       "[-5, -3, -1]"
      ]
     },
     "execution_count": 98,
     "metadata": {},
     "output_type": "execute_result"
    }
   ],
   "source": [
    "#Python program to print all odd number in the given range\n",
    "def odd_num2(s, e):\n",
    "    odd = []\n",
    "    for num in range(s,e+1):\n",
    "        if (num < 0) and num % 2!=0 :\n",
    "            odd.append(num)\n",
    "    return odd\n",
    "\n",
    "s,e=-5,10\n",
    "odd_num2(s, e)"
   ]
  },
  {
   "cell_type": "code",
   "execution_count": 115,
   "id": "91d92387-724e-443e-afea-8def5277caed",
   "metadata": {},
   "outputs": [
    {
     "name": "stdout",
     "output_type": "stream",
     "text": [
      "diff f-large list{2, 3} f-large element: 3 and 2nd -large [2] n 2nd-l elem 2\n"
     ]
    },
    {
     "data": {
      "text/plain": [
       "2"
      ]
     },
     "execution_count": 115,
     "metadata": {},
     "output_type": "execute_result"
    }
   ],
   "source": [
    "#python program to find the second largest element from a list\n",
    "def second_n_largest(lis):\n",
    "    lis = set(lis)\n",
    "    first_large = max(lis)\n",
    "    n = [n for n in lis if n !=first_large]\n",
    "    second_max = max(n)\n",
    "    print(f'diff f-large list{lis} f-large element: {first_large} and 2nd -large {n} n 2nd-l elem {second_max}')\n",
    "    return second_max\n",
    "\n",
    "li = [2,2,3,3]\n",
    "second_n_largest(li)\n",
    "            "
   ]
  },
  {
   "cell_type": "code",
   "execution_count": 135,
   "id": "70d09faf-d331-4c88-b100-65439090c95d",
   "metadata": {},
   "outputs": [
    {
     "name": "stdout",
     "output_type": "stream",
     "text": [
      "[6, 5, 4, 2]\n"
     ]
    },
    {
     "data": {
      "text/plain": [
       "[6, 5, 4, 2]"
      ]
     },
     "execution_count": 135,
     "metadata": {},
     "output_type": "execute_result"
    }
   ],
   "source": [
    "#python program to find the n largest elements\n",
    "import heapq as h\n",
    "mylist = [5,4,2,1,6]\n",
    "n =4\n",
    "lg_element = h.nlargest(n,mylist)\n",
    "print(lg_element)\n",
    "\n",
    "lg2 = sorted(mylist,reverse=True)\n",
    "lg2[:n]"
   ]
  },
  {
   "cell_type": "code",
   "execution_count": 149,
   "id": "fde35d9e-f9f3-421c-ae04-4ce87fb2446d",
   "metadata": {},
   "outputs": [
    {
     "name": "stdout",
     "output_type": "stream",
     "text": [
      "[1, 2, 4]\n"
     ]
    },
    {
     "data": {
      "text/plain": [
       "[1, 2, 4]"
      ]
     },
     "execution_count": 149,
     "metadata": {},
     "output_type": "execute_result"
    }
   ],
   "source": [
    "#python program to find the n smalles elements\n",
    "import heapq as h\n",
    "mylist = [5,4,2,1,6]\n",
    "n =3\n",
    "lg_element = h.nsmallest(n,mylist)\n",
    "print(lg_element)\n",
    "\n",
    "lg2 = sorted(mylist)\n",
    "lg2[:n]\n"
   ]
  },
  {
   "cell_type": "code",
   "execution_count": 131,
   "id": "9fdd0381-7fcd-4801-9c2b-e30a96d08bfa",
   "metadata": {},
   "outputs": [
    {
     "name": "stdout",
     "output_type": "stream",
     "text": [
      "5\n",
      "4\n"
     ]
    },
    {
     "ename": "IndexError",
     "evalue": "list index out of range",
     "output_type": "error",
     "traceback": [
      "\u001b[31m---------------------------------------------------------------------------\u001b[39m",
      "\u001b[31mIndexError\u001b[39m                                Traceback (most recent call last)",
      "\u001b[36mCell\u001b[39m\u001b[36m \u001b[39m\u001b[32mIn[131]\u001b[39m\u001b[32m, line 4\u001b[39m\n\u001b[32m      2\u001b[39m \u001b[38;5;28;01mfor\u001b[39;00m k \u001b[38;5;129;01min\u001b[39;00m \u001b[38;5;28mrange\u001b[39m(\u001b[38;5;28mlen\u001b[39m(a)):\n\u001b[32m      3\u001b[39m     a[k]\n\u001b[32m----> \u001b[39m\u001b[32m4\u001b[39m     \u001b[43ma\u001b[49m\u001b[43m[\u001b[49m\u001b[32;43m2\u001b[39;49m\u001b[43m*\u001b[49m\u001b[43mk\u001b[49m\u001b[43m+\u001b[49m\u001b[32;43m1\u001b[39;49m\u001b[43m]\u001b[49m\n\u001b[32m      5\u001b[39m     a[k]\n\u001b[32m      6\u001b[39m     a[\u001b[32m2\u001b[39m*k+\u001b[32m2\u001b[39m]\n",
      "\u001b[31mIndexError\u001b[39m: list index out of range"
     ]
    }
   ],
   "source": [
    "a = [5,4,2,1,6]\n",
    "for k in range(len(a)):\n",
    "    a[k]\n",
    "    a[2*k+1]\n",
    "    a[k]\n",
    "    a[2*k+2]\n",
    "    print(a[k])"
   ]
  },
  {
   "cell_type": "code",
   "execution_count": null,
   "id": "970a0c88-27f9-4026-953d-d51ac2ac00df",
   "metadata": {},
   "outputs": [],
   "source": []
  },
  {
   "cell_type": "code",
   "execution_count": null,
   "id": "af578513-9e9e-4df8-b75e-285371dff988",
   "metadata": {},
   "outputs": [],
   "source": []
  },
  {
   "cell_type": "code",
   "execution_count": 81,
   "id": "20d481ab-0b6a-43ed-ad49-603acca1d385",
   "metadata": {},
   "outputs": [
    {
     "name": "stdout",
     "output_type": "stream",
     "text": [
      "17\n"
     ]
    }
   ],
   "source": [
    "#python program to find the sum of all digits using for loop n converting string to int n interpret\n",
    "n = '314351'\n",
    "s = 0 \n",
    "for x in n:\n",
    "    k = int(n)%10\n",
    "    s = s + k\n",
    "    n = int(n)//10\n",
    "print(s)\n",
    "    "
   ]
  },
  {
   "cell_type": "code",
   "execution_count": null,
   "id": "54fb8287-c751-4373-b3ac-28b9311cff2d",
   "metadata": {},
   "outputs": [],
   "source": []
  },
  {
   "cell_type": "code",
   "execution_count": null,
   "id": "b580221f-9afe-489c-aa76-7fb6c12bb8d1",
   "metadata": {},
   "outputs": [],
   "source": []
  },
  {
   "cell_type": "code",
   "execution_count": 31,
   "id": "dde165ff-2c9b-4991-b4f0-dac9c829dd0d",
   "metadata": {},
   "outputs": [
    {
     "name": "stdout",
     "output_type": "stream",
     "text": [
      "[1, 2, 3, 4, 5]\n",
      "[-5, -4, -3, -2, -1]\n",
      "[1, 2, 3, 1]\n",
      "[-2, -2, -5, -6, -7, -3, -7]\n"
     ]
    }
   ],
   "source": [
    "# list comphrehensions of above pre written programs as follows:\n",
    "start = -5\n",
    "end = 5\n",
    "li = [1,2,3,-2,-2,-5,-6,-7,1,-3,-7]\n",
    "li1 = [1,3,4,6,23,54,12,14]\n",
    "positive_nums = [num for num in range(start,end+1) if num > 0]\n",
    "negative_nums = [num for num in range(start,end+1) if num < 0]\n",
    "positive_nums1 = [num for num in li if num > 0]\n",
    "negative_nums1 = [num for num in li if num < 0]\n",
    "print(positive_nums)\n",
    "print(negative_nums)\n",
    "print(positive_nums1)\n",
    "print(negative_nums1)"
   ]
  }
 ],
 "metadata": {
  "kernelspec": {
   "display_name": "Python 3 (ipykernel)",
   "language": "python",
   "name": "python3"
  },
  "language_info": {
   "codemirror_mode": {
    "name": "ipython",
    "version": 3
   },
   "file_extension": ".py",
   "mimetype": "text/x-python",
   "name": "python",
   "nbconvert_exporter": "python",
   "pygments_lexer": "ipython3",
   "version": "3.13.5"
  }
 },
 "nbformat": 4,
 "nbformat_minor": 5
}
