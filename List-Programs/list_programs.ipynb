{
 "cells": [
  {
   "cell_type": "code",
   "execution_count": 1,
   "id": "cc34623a-5c41-4ed3-81bc-355d3e35ae1f",
   "metadata": {},
   "outputs": [
    {
     "data": {
      "text/plain": [
       "[-5, -4, -3, -2, -1]"
      ]
     },
     "execution_count": 1,
     "metadata": {},
     "output_type": "execute_result"
    }
   ],
   "source": [
    "#python program to find all negative numbers from given set of range\n",
    "\n",
    "def print_negative_nums(strt,end):\n",
    "    negative_nums = []\n",
    "    for nums in range(strt, end + 1):\n",
    "        if nums < 0:\n",
    "            negative_nums.append(nums)\n",
    "    return negative_nums\n",
    "\n",
    "start = -5\n",
    "end = 5\n",
    "print_negative_nums(start, end)"
   ]
  },
  {
   "cell_type": "code",
   "execution_count": 21,
   "id": "d07ffeee-2c61-429f-8b4e-b04aacb376b1",
   "metadata": {},
   "outputs": [
    {
     "data": {
      "text/plain": [
       "[1, 2, 3, 4, 5]"
      ]
     },
     "execution_count": 21,
     "metadata": {},
     "output_type": "execute_result"
    }
   ],
   "source": [
    "#python program to find all positive numbers from given set of range\n",
    "\n",
    "def print_positive_nums(strt,end):\n",
    "    positive_nums = []\n",
    "    for nums in range(strt, end + 1):\n",
    "        if nums > 0:\n",
    "            positive_nums.append(nums)\n",
    "    return positive_nums\n",
    "\n",
    "start = -5\n",
    "end = 5\n",
    "print_positive_nums(start, end)"
   ]
  },
  {
   "cell_type": "code",
   "execution_count": 22,
   "id": "d858f2a9-4aa2-417f-914c-563cf84b6098",
   "metadata": {},
   "outputs": [
    {
     "data": {
      "text/plain": [
       "[1, 2, 3, 1]"
      ]
     },
     "execution_count": 22,
     "metadata": {},
     "output_type": "execute_result"
    }
   ],
   "source": [
    "#python program to print all nth positive number from a list\n",
    "def n_positives(nth):\n",
    "    temp = []\n",
    "    for n in nth:\n",
    "        if n > 0:\n",
    "            temp.append(n)\n",
    "    return temp\n",
    "\n",
    "li = [1,2,3,-2,-2,-5,-6,-7,1,-3,-7]\n",
    "n_positives(li)"
   ]
  },
  {
   "cell_type": "code",
   "execution_count": 25,
   "id": "ca148e94-6490-4fa0-a9a7-0d55feb47943",
   "metadata": {},
   "outputs": [
    {
     "data": {
      "text/plain": [
       "[-2, -2, -5, -6, -7, -3, -7]"
      ]
     },
     "execution_count": 25,
     "metadata": {},
     "output_type": "execute_result"
    }
   ],
   "source": [
    "#python program to print all nth positive number from a list\n",
    "def n_negatives(nth):\n",
    "    temp = []\n",
    "    for n in nth:\n",
    "        if n < 0:\n",
    "            temp.append(n)\n",
    "    return temp\n",
    "\n",
    "li = [1,2,3,-2,-2,-5,-6,-7,1,-3,-7]\n",
    "n_negatives(li)"
   ]
  },
  {
   "cell_type": "code",
   "execution_count": 91,
   "id": "03fcc7a2-296e-4711-b80d-461377dccf0b",
   "metadata": {},
   "outputs": [
    {
     "data": {
      "text/plain": [
       "[2, 6]"
      ]
     },
     "execution_count": 91,
     "metadata": {},
     "output_type": "execute_result"
    }
   ],
   "source": [
    "#Python program to print all even number in the given range\n",
    "def evn_num(nums):\n",
    "    evn = []\n",
    "    for num in nums:\n",
    "        if (num > 0) and num % 2==0 :\n",
    "            evn.append(num)\n",
    "    return evn\n",
    "\n",
    "li = [1,2,3,-2,-2,-5,-6,-7,1,-3,-7,6]\n",
    "evn_num(li)"
   ]
  },
  {
   "cell_type": "code",
   "execution_count": 93,
   "id": "13881fdb-93e2-4672-bfef-5a2e50da13d7",
   "metadata": {},
   "outputs": [
    {
     "data": {
      "text/plain": [
       "[1, 3, 1]"
      ]
     },
     "execution_count": 93,
     "metadata": {},
     "output_type": "execute_result"
    }
   ],
   "source": [
    "#Python program to print all odd number in the given range\n",
    "def odd_num(nums):\n",
    "    odds = []\n",
    "    for num in nums:\n",
    "        if (num > 0) and num % 2!=0 :\n",
    "            odds.append(num)\n",
    "    return odds\n",
    "\n",
    "li = [1,2,3,-2,-2,-5,-6,-7,1,-3,-7,6]\n",
    "evn_num(li)"
   ]
  },
  {
   "cell_type": "code",
   "execution_count": 95,
   "id": "afc4972a-5287-448f-988a-8e61c969ce5d",
   "metadata": {},
   "outputs": [
    {
     "data": {
      "text/plain": [
       "[2, 4, 6, 8, 10]"
      ]
     },
     "execution_count": 95,
     "metadata": {},
     "output_type": "execute_result"
    }
   ],
   "source": [
    "#Python program to print all even number in the given range\n",
    "def evn_num2(s, e):\n",
    "    evn = []\n",
    "    for num in range(s,e+1):\n",
    "        if (num > 0) and num % 2==0 :\n",
    "            evn.append(num)\n",
    "    return evn\n",
    "\n",
    "s,e=-5,10\n",
    "evn_num2(s, e)\n"
   ]
  },
  {
   "cell_type": "code",
   "execution_count": 98,
   "id": "9361c70e-1fff-428e-b68a-b968e6180f89",
   "metadata": {},
   "outputs": [
    {
     "data": {
      "text/plain": [
       "[-5, -3, -1]"
      ]
     },
     "execution_count": 98,
     "metadata": {},
     "output_type": "execute_result"
    }
   ],
   "source": [
    "#Python program to print all odd number in the given range\n",
    "def odd_num2(s, e):\n",
    "    odd = []\n",
    "    for num in range(s,e+1):\n",
    "        if (num < 0) and num % 2!=0 :\n",
    "            odd.append(num)\n",
    "    return odd\n",
    "\n",
    "s,e=-5,10\n",
    "odd_num2(s, e)"
   ]
  },
  {
   "cell_type": "code",
   "execution_count": 115,
   "id": "91d92387-724e-443e-afea-8def5277caed",
   "metadata": {},
   "outputs": [
    {
     "name": "stdout",
     "output_type": "stream",
     "text": [
      "diff f-large list{2, 3} f-large element: 3 and 2nd -large [2] n 2nd-l elem 2\n"
     ]
    },
    {
     "data": {
      "text/plain": [
       "2"
      ]
     },
     "execution_count": 115,
     "metadata": {},
     "output_type": "execute_result"
    }
   ],
   "source": [
    "#python program to find the second largest element from a list\n",
    "def second_n_largest(lis):\n",
    "    lis = set(lis)\n",
    "    first_large = max(lis)\n",
    "    n = [n for n in lis if n !=first_large]\n",
    "    second_max = max(n)\n",
    "    print(f'diff f-large list{lis} f-large element: {first_large} and 2nd -large {n} n 2nd-l elem {second_max}')\n",
    "    return second_max\n",
    "\n",
    "li = [2,2,3,3]\n",
    "second_n_largest(li)\n",
    "            "
   ]
  },
  {
   "cell_type": "code",
   "execution_count": 135,
   "id": "70d09faf-d331-4c88-b100-65439090c95d",
   "metadata": {},
   "outputs": [
    {
     "name": "stdout",
     "output_type": "stream",
     "text": [
      "[6, 5, 4, 2]\n"
     ]
    },
    {
     "data": {
      "text/plain": [
       "[6, 5, 4, 2]"
      ]
     },
     "execution_count": 135,
     "metadata": {},
     "output_type": "execute_result"
    }
   ],
   "source": [
    "#python program to find the n largest elements\n",
    "import heapq as h\n",
    "mylist = [5,4,2,1,6]\n",
    "n =4\n",
    "lg_element = h.nlargest(n,mylist)\n",
    "print(lg_element)\n",
    "\n",
    "lg2 = sorted(mylist,reverse=True)\n",
    "lg2[:n]"
   ]
  },
  {
   "cell_type": "code",
   "execution_count": 149,
   "id": "fde35d9e-f9f3-421c-ae04-4ce87fb2446d",
   "metadata": {},
   "outputs": [
    {
     "name": "stdout",
     "output_type": "stream",
     "text": [
      "[1, 2, 4]\n"
     ]
    },
    {
     "data": {
      "text/plain": [
       "[1, 2, 4]"
      ]
     },
     "execution_count": 149,
     "metadata": {},
     "output_type": "execute_result"
    }
   ],
   "source": [
    "#python program to find the n smalles elements\n",
    "import heapq as h\n",
    "mylist = [5,4,2,1,6]\n",
    "n =3\n",
    "lg_element = h.nsmallest(n,mylist)\n",
    "print(lg_element)\n",
    "\n",
    "lg2 = sorted(mylist)\n",
    "lg2[:n]\n"
   ]
  },
  {
   "cell_type": "code",
   "execution_count": 61,
   "id": "970a0c88-27f9-4026-953d-d51ac2ac00df",
   "metadata": {},
   "outputs": [
    {
     "name": "stdout",
     "output_type": "stream",
     "text": [
      "2nd largest:  4 from -->  [1, 2, 3, 4, 5]\n",
      "2nd lg:  4 from --> 5 as of previous n now [4, 3, 2, 1]\n"
     ]
    }
   ],
   "source": [
    "#python program to find second largest number in a list\n",
    "mylst=[5,4,3,1,2]\n",
    "sorted_L = sorted(mylst)\n",
    "\n",
    "#second smallest\n",
    "_2nd_lg = sorted_L[-2]\n",
    "print('2nd largest: ',_2nd_lg,'from --> ',sorted_L)\n",
    "sorted_L1 = sorted(mylst,reverse=True)\n",
    "lg = sorted_L1[0]\n",
    "\n",
    "for item in sorted_L1:\n",
    "    if item == lg:\n",
    "        z= sorted_L1.pop(0)\n",
    "        print('2nd lg: ',max(sorted_L1), 'from -->',z,\n",
    "             \n",
    "             'as of previous n now',sorted_L1)\n",
    "        break\n",
    "        \n",
    "            "
   ]
  },
  {
   "cell_type": "code",
   "execution_count": 91,
   "id": "af578513-9e9e-4df8-b75e-285371dff988",
   "metadata": {},
   "outputs": [
    {
     "name": "stdout",
     "output_type": "stream",
     "text": [
      "using counter:  120\n",
      "using reduce from functools:  120\n",
      "using numpy:  120\n",
      "using list comphrension [5, 20, 60, 60, 120]\n",
      "120\n"
     ]
    }
   ],
   "source": [
    "#Python | multiply all numbers in the list in 4 different methods\n",
    "\n",
    "#Defined list\n",
    "mylst=[5,4,3,1,2]\n",
    "\n",
    "#using a counter with initial value\n",
    "prod = 1\n",
    "for item in mylst:\n",
    "    prod *= item\n",
    "print('using counter: ',prod)\n",
    "\n",
    "#using reduce\n",
    "from functools import reduce\n",
    "mul = lambda x,y : x * y\n",
    "prod1  = reduce(mul, mylst)\n",
    "print('using reduce from functools: ',prod1)\n",
    "\n",
    "#using numpy \n",
    "import numpy as np\n",
    "prod3 = np.prod(mylst)\n",
    "print('using numpy: ',prod3)\n",
    "\n",
    "#using walrus + list comprehension := same as z = 0 [some expression etc store it in z variable again]\n",
    "prod4 = 1\n",
    "[prod4 := prod4*item for item in mylst]\n",
    "print('using list comphrension', z)\n",
    "print(prod4)"
   ]
  },
  {
   "cell_type": "code",
   "execution_count": 183,
   "id": "54fb8287-c751-4373-b3ac-28b9311cff2d",
   "metadata": {},
   "outputs": [
    {
     "name": "stdout",
     "output_type": "stream",
     "text": [
      "Help on built-in function reduce in module _functools:\n",
      "\n",
      "reduce(...)\n",
      "    reduce(function, iterable[, initial], /) -> value\n",
      "\n",
      "    Apply a function of two arguments cumulatively to the items of an iterable, from left to right.\n",
      "\n",
      "    This effectively reduces the iterable to a single value.  If initial is present,\n",
      "    it is placed before the items of the iterable in the calculation, and serves as\n",
      "    a default when the iterable is empty.\n",
      "\n",
      "    For example, reduce(lambda x, y: x+y, [1, 2, 3, 4, 5])\n",
      "    calculates ((((1 + 2) + 3) + 4) + 5).\n",
      "\n"
     ]
    }
   ],
   "source": [
    "import functools\n",
    "help(functools.reduce)"
   ]
  },
  {
   "cell_type": "code",
   "execution_count": 95,
   "id": "b580221f-9afe-489c-aa76-7fb6c12bb8d1",
   "metadata": {},
   "outputs": [
    {
     "name": "stdout",
     "output_type": "stream",
     "text": [
      "using sum function  15 sum of all the elements in  [5, 4, 3, 1, 2]\n",
      "using for loop n counter:  15\n"
     ]
    }
   ],
   "source": [
    "#python program to find the sum of all elements in the list\n",
    "mylst=[5,4,3,1,2]\n",
    "\n",
    "#using sum function\n",
    "print(\"using sum function \",sum(mylst) ,'sum of all the elements in ', mylst)\n",
    "\n",
    "#using for loop n counter\n",
    "i = 0 \n",
    "for item in mylst:\n",
    "    i+=item\n",
    "print('using for loop n counter: ',i)"
   ]
  },
  {
   "cell_type": "code",
   "execution_count": 122,
   "id": "e8e3e1ab-b058-4beb-9e44-0ef39ca937e3",
   "metadata": {},
   "outputs": [
    {
     "name": "stdout",
     "output_type": "stream",
     "text": [
      ".reverse list method:  [5, 4, 3, 2, 1]\n",
      "sliced:  [1, 2, 3, 4, 5]\n",
      "using reversed function:  [1, 2, 3, 4, 5]\n"
     ]
    }
   ],
   "source": [
    "#python program to reverse a list in python \n",
    "#Define a list\n",
    "mylst=[5,4,3,1,2]\n",
    "#using reverse method \n",
    "mylst.sort()\n",
    "mylst1 = mylst.reverse()\n",
    "print('.reverse list method: ', mylst)\n",
    "\n",
    "#method-2 using slicing [::-1]\n",
    "print('sliced: ', mylst[::-1])\n",
    "\n",
    "#method-3 using reversed function\n",
    "rev_lst = list(reversed(mylst))\n",
    "print('using reversed function: ',rev_lst)"
   ]
  },
  {
   "cell_type": "markdown",
   "id": "7095db86-ba46-4966-8c98-19661d7f8b29",
   "metadata": {},
   "source": [
    "Some Fundamental Imp Features"
   ]
  },
  {
   "cell_type": "code",
   "execution_count": 129,
   "id": "cce301f4-9b8f-4fe4-80c4-5d24cb10d3a8",
   "metadata": {},
   "outputs": [
    {
     "name": "stdout",
     "output_type": "stream",
     "text": [
      "[]\n",
      "[]\n",
      "[]\n",
      "[]\n"
     ]
    }
   ],
   "source": [
    "#Different ways to clear a list in python\n",
    "\n",
    "#Defined list\n",
    "myl= [1,3,4,5,6]\n",
    "myl1= [1,3,4,5,6]\n",
    "myl2= [1,3,4,5,6]\n",
    "myl3= [1,3,4,5,6]\n",
    "#Clear the list using clear() list method\n",
    "myl.clear()\n",
    "print(myl)\n",
    "\n",
    "#Clear the list using slice assignment\n",
    "myl1[:] = [] # select whole list\n",
    "print(myl1)\n",
    "\n",
    "#clear using assigning empty list to current list\n",
    "myl3 = []\n",
    "print(myl3)\n",
    "#Clear using loop\n",
    "while myl2:\n",
    "    myl2.pop()\n",
    "print(myl2)"
   ]
  },
  {
   "cell_type": "code",
   "execution_count": 143,
   "id": "09b64c94-3aa1-4324-ab0d-c087c91f302d",
   "metadata": {},
   "outputs": [
    {
     "name": "stdout",
     "output_type": "stream",
     "text": [
      "using in operator for checking element-> 3: True\n",
      "using in operator for checking element-> 3: True\n",
      "using loop for checking element-> 3: True\n"
     ]
    }
   ],
   "source": [
    "#Python program to check if element exists in list in python\n",
    "mylst= [1,3,4,5,6,7]\n",
    "#Element to check present or not\n",
    "ele = 3\n",
    "#using in membership operator\n",
    "exi = ele in mylst\n",
    "print(f'using in operator for checking element-> {ele}: {exi}')\n",
    "\n",
    "#uing count method\n",
    "cunt = mylst.count(ele) > 0\n",
    "print(f'using in operator for checking element-> {ele}: {cunt}')\n",
    "e = False\n",
    "#using for loop\n",
    "for item in mylst:\n",
    "    if item == ele:\n",
    "        e = True\n",
    "        break\n",
    "print(f'using loop for checking element-> {ele}: {e}')"
   ]
  },
  {
   "cell_type": "code",
   "execution_count": 157,
   "id": "65b2db7d-c623-434f-9a94-075a91404d2e",
   "metadata": {},
   "outputs": [
    {
     "name": "stdout",
     "output_type": "stream",
     "text": [
      "lenght using for loop: 5\n",
      "lenght using len func: 5\n",
      "lenght using len/list comprehension: 5\n",
      "lenght using numpy size method: 5\n",
      "[1, 2, 3, 4, 5]\n"
     ]
    }
   ],
   "source": [
    "#python program to find the length if list\n",
    "myl1 = [x for x in range(1,5+1)]\n",
    "_xLenght = 0\n",
    "for _ in myl1:\n",
    "    _xLenght+=1\n",
    "print('lenght using for loop: {}'.format(_xLenght))\n",
    "\n",
    "#using len function \n",
    "lenght = len(myl1)\n",
    "print('lenght using len func: {}'.format(lenght))\n",
    "\n",
    "lenght1 = len([_ for _ in myl1])\n",
    "print('lenght using len/list comprehension: {}'.format(lenght1))\n",
    "\n",
    "#Using numpy libary\n",
    "try:\n",
    "    import numpy as np\n",
    "    lenght2 = np.size(myl1)\n",
    "    print('lenght using numpy size method: {}'.format(lenght2))\n",
    "except ImportError:\n",
    "    lenght4 = None\n",
    "    print('lenght using numpy size method: {}'.format(lenght2))\n",
    "\n",
    "print(myl1)"
   ]
  },
  {
   "cell_type": "code",
   "execution_count": 176,
   "id": "b3e293fe-a4e4-4e24-ae24-b2f4fcb05d19",
   "metadata": {},
   "outputs": [
    {
     "name": "stdout",
     "output_type": "stream",
     "text": [
      "[1, 2, 3, 5, 4, 6, 7]\n"
     ]
    }
   ],
   "source": [
    "#Python program to swap two elements in a list\n",
    "def swapElements(inp_list, idx1, idx2):\n",
    "    #Check if indices are valid\n",
    "    if idx1 <len(inp_list) and idx2 < len(inp_list):\n",
    "        inp_list[idx1], inp_list[idx2] = inp_list[idx2], inp_list[idx1]\n",
    "    return inp_list\n",
    "\n",
    "#input list\n",
    "mylst= [1,2,3,4,5,6,7]\n",
    "\n",
    "#indices of element to be swapped\n",
    "indx = 3\n",
    "indx1 = -3\n",
    "\n",
    "res = swapElements(mylst, indx, indx1)\n",
    "print(res)\n"
   ]
  },
  {
   "cell_type": "code",
   "execution_count": 181,
   "id": "4da0ca03-fffa-4350-9915-883fb19de864",
   "metadata": {},
   "outputs": [
    {
     "name": "stdout",
     "output_type": "stream",
     "text": [
      "Interchanged list first is now last element n vise versa: [7, 2, 3, 4, 5, 6, 1]\n"
     ]
    }
   ],
   "source": [
    "#Python program to interchange first element to last element \n",
    "def interchange_first_last_elements(inp_list):\n",
    "    if inp_list:\n",
    "        inp_list[0], inp_list[-1] = inp_list[-1], inp_list[0]\n",
    "    return inp_list\n",
    "\n",
    "#Defined list\n",
    "mylst= [1,2,3,4,5,6,7]\n",
    "res1 = interchange_first_last_elements(mylst)\n",
    "print(f'Interchanged list first is now last element n vise versa: {res1}')"
   ]
  },
  {
   "cell_type": "code",
   "execution_count": 81,
   "id": "20d481ab-0b6a-43ed-ad49-603acca1d385",
   "metadata": {},
   "outputs": [
    {
     "name": "stdout",
     "output_type": "stream",
     "text": [
      "17\n"
     ]
    }
   ],
   "source": [
    "#python program to find the sum of all digits using for loop n converting string to int n interpret\n",
    "n = '314351'\n",
    "s = 0 \n",
    "for x in n:\n",
    "    k = int(n)%10\n",
    "    s = s + k\n",
    "    n = int(n)//10\n",
    "print(s)\n",
    "    "
   ]
  },
  {
   "cell_type": "code",
   "execution_count": 31,
   "id": "dde165ff-2c9b-4991-b4f0-dac9c829dd0d",
   "metadata": {},
   "outputs": [
    {
     "name": "stdout",
     "output_type": "stream",
     "text": [
      "[1, 2, 3, 4, 5]\n",
      "[-5, -4, -3, -2, -1]\n",
      "[1, 2, 3, 1]\n",
      "[-2, -2, -5, -6, -7, -3, -7]\n"
     ]
    }
   ],
   "source": [
    "# list comphrehensions of above pre written programs as follows:\n",
    "start = -5\n",
    "end = 5\n",
    "li = [1,2,3,-2,-2,-5,-6,-7,1,-3,-7]\n",
    "li1 = [1,3,4,6,23,54,12,14]\n",
    "positive_nums = [num for num in range(start,end+1) if num > 0]\n",
    "negative_nums = [num for num in range(start,end+1) if num < 0]\n",
    "positive_nums1 = [num for num in li if num > 0]\n",
    "negative_nums1 = [num for num in li if num < 0]\n",
    "print(positive_nums)\n",
    "print(negative_nums)\n",
    "print(positive_nums1)\n",
    "print(negative_nums1)"
   ]
  }
 ],
 "metadata": {
  "kernelspec": {
   "display_name": "Python 3 (ipykernel)",
   "language": "python",
   "name": "python3"
  },
  "language_info": {
   "codemirror_mode": {
    "name": "ipython",
    "version": 3
   },
   "file_extension": ".py",
   "mimetype": "text/x-python",
   "name": "python",
   "nbconvert_exporter": "python",
   "pygments_lexer": "ipython3",
   "version": "3.13.5"
  }
 },
 "nbformat": 4,
 "nbformat_minor": 5
}
