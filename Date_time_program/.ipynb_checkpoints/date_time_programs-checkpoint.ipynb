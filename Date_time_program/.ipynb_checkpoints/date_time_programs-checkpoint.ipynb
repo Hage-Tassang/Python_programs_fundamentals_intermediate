{
 "cells": [
  {
   "cell_type": "code",
   "execution_count": 265,
   "id": "a6408d74-0339-4747-aef4-7048681046dd",
   "metadata": {},
   "outputs": [
    {
     "name": "stdout",
     "output_type": "stream",
     "text": [
      "current time:  2025-09-30 18:44:19.583474\n"
     ]
    }
   ],
   "source": [
    "#python program to get current time- using date time object\n",
    "\n",
    "import datetime\n",
    "#get the current time using datetime obj\n",
    "\n",
    "current_time =  datetime.datetime.now()\n",
    "\n",
    "#Displau the current time\n",
    "print('current date time: ', current_time)"
   ]
  },
  {
   "cell_type": "code",
   "execution_count": 277,
   "id": "e30b21f1-7e9a-449e-bf72-d434e24f2c08",
   "metadata": {},
   "outputs": [
    {
     "name": "stdout",
     "output_type": "stream",
     "text": [
      "Yesterday:  2025-09-29\n",
      "Today:  2025-09-30\n",
      "Tomorrow:  2025-10-02\n"
     ]
    }
   ],
   "source": [
    "#python program to find yesterdays, todays and tommorow\n",
    "\n",
    "import datetime\n",
    "\n",
    "#get todays date\n",
    "today = datetime.date.today()\n",
    "\n",
    "#calculate yesterdays and tommorows\n",
    "\n",
    "yesterday = today - datetime.timedelta(days=1)\n",
    "tomorrow = today + datetime.timedelta(days=2)\n",
    "\n",
    "\n",
    "#Display the dates\n",
    "\n",
    "print('Yesterday: ', yesterday)\n",
    "print('Today: ', today)\n",
    "print('Tomorrow: ',tomorrow)"
   ]
  },
  {
   "cell_type": "code",
   "execution_count": 281,
   "id": "94567c66-0a75-43f8-af4d-cd2a0dbc771e",
   "metadata": {},
   "outputs": [
    {
     "name": "stdout",
     "output_type": "stream",
     "text": [
      "Time in 24-hour:  19:30:00\n"
     ]
    }
   ],
   "source": [
    "#python program to convert time from 12-hr to 24-hr format\n",
    "\n",
    "import datetime\n",
    "\n",
    "def convert_to_24_hr_format(time_str):\n",
    "    #define the format of the input time string\n",
    "    input_format = '%I:%M:%S %p'\n",
    "    #parse the input time string to a datetime object\n",
    "    time_obj = datetime.datetime.strptime(time_str, input_format)\n",
    "\n",
    "    #format the time object to 24hr format\n",
    "\n",
    "    time_24_hour = time_obj.strftime('%H:%M:%S')\n",
    "    return time_24_hour\n",
    "\n",
    "\n",
    "#INput time in 12 hour\n",
    "time_12hr = '07:30:00 pm'\n",
    "\n",
    "#convert the time to 24 hour format\n",
    "time_24_hour = convert_to_24_hr_format(time_12hr)\n",
    "\n",
    "#display time in 24 hr format\n",
    "\n",
    "print('Time in 24-hour: ',time_24_hour)"
   ]
  },
  {
   "cell_type": "code",
   "execution_count": 282,
   "id": "08a1aa92-8144-4f65-94b4-b1bca8476152",
   "metadata": {},
   "outputs": [
    {
     "name": "stdout",
     "output_type": "stream",
     "text": [
      "Difference between current time and given time:  7:37:42.562974\n"
     ]
    }
   ],
   "source": [
    "#python program to find the difference between current time and given time\n",
    "import datetime\n",
    "\n",
    "def time_difference(given_time_str):\n",
    "    #get current time\n",
    "    current_time = datetime.datetime.now().time()\n",
    "    #convert given time string to a time object\n",
    "    given_time = datetime.datetime.strptime(given_time_str,\"%H:%M:%S\").time()\n",
    "    #calculate the difference between ctime-currentT and gtime-GivenT\n",
    "    time_diff = datetime.datetime.combine(datetime.date.today(), current_time) - datetime.datetime.combine(datetime.date.today(), given_time) \n",
    "    return time_diff\n",
    "\n",
    "\n",
    "#Given time \n",
    "given_time_str = \"12:00:00\"\n",
    "\n",
    "#calculate the difference\n",
    "difference =  time_difference(given_time_str)\n",
    "\n",
    "#display the difference\n",
    "print('Difference between current time and given time: ', difference)"
   ]
  },
  {
   "cell_type": "code",
   "execution_count": null,
   "id": "a2adaf8c-1a2c-42e7-9463-d4a0c0d4411e",
   "metadata": {},
   "outputs": [],
   "source": []
  },
  {
   "cell_type": "code",
   "execution_count": null,
   "id": "18b9a3fd-01b3-4fa2-ab9e-2f2a9d080bc7",
   "metadata": {},
   "outputs": [],
   "source": []
  },
  {
   "cell_type": "code",
   "execution_count": null,
   "id": "8ab1bb7a-2306-4db4-bb7e-ef8e4a2459c7",
   "metadata": {},
   "outputs": [],
   "source": []
  },
  {
   "cell_type": "code",
   "execution_count": null,
   "id": "5eecb306-cadf-41c3-ac09-615a61f4e988",
   "metadata": {},
   "outputs": [],
   "source": []
  },
  {
   "cell_type": "code",
   "execution_count": null,
   "id": "5afd6e20-f935-4168-b92d-4b73370457d8",
   "metadata": {},
   "outputs": [],
   "source": []
  },
  {
   "cell_type": "code",
   "execution_count": null,
   "id": "dadbfa9c-9dfd-454d-9388-9c232640a484",
   "metadata": {},
   "outputs": [],
   "source": []
  },
  {
   "cell_type": "code",
   "execution_count": null,
   "id": "6b7c4139-bfd6-444b-8b61-3152853fa98c",
   "metadata": {},
   "outputs": [],
   "source": []
  },
  {
   "cell_type": "code",
   "execution_count": null,
   "id": "bf43f1ef-df4e-49dc-bea2-ed73bc11c57f",
   "metadata": {},
   "outputs": [],
   "source": []
  },
  {
   "cell_type": "code",
   "execution_count": null,
   "id": "1bfb767a-81bf-4d51-9806-b9994db96f9a",
   "metadata": {},
   "outputs": [],
   "source": []
  },
  {
   "cell_type": "code",
   "execution_count": null,
   "id": "467650cc-2c35-4bf5-b29b-f86aed3c6a3e",
   "metadata": {},
   "outputs": [],
   "source": []
  },
  {
   "cell_type": "code",
   "execution_count": null,
   "id": "1919bdff-fa00-4418-b786-d91a507021e9",
   "metadata": {},
   "outputs": [],
   "source": []
  },
  {
   "cell_type": "code",
   "execution_count": null,
   "id": "c781bd08-2e7d-4081-8fdb-d4ad9a91da46",
   "metadata": {},
   "outputs": [],
   "source": []
  },
  {
   "cell_type": "code",
   "execution_count": null,
   "id": "53568822-e9f7-42c5-aa32-a22c39116fec",
   "metadata": {},
   "outputs": [],
   "source": []
  },
  {
   "cell_type": "code",
   "execution_count": null,
   "id": "35d5a5a2-d31b-4c15-a42b-c20467b57f97",
   "metadata": {},
   "outputs": [],
   "source": []
  }
 ],
 "metadata": {
  "kernelspec": {
   "display_name": "Python 3 (ipykernel)",
   "language": "python",
   "name": "python3"
  },
  "language_info": {
   "codemirror_mode": {
    "name": "ipython",
    "version": 3
   },
   "file_extension": ".py",
   "mimetype": "text/x-python",
   "name": "python",
   "nbconvert_exporter": "python",
   "pygments_lexer": "ipython3",
   "version": "3.13.5"
  }
 },
 "nbformat": 4,
 "nbformat_minor": 5
}
