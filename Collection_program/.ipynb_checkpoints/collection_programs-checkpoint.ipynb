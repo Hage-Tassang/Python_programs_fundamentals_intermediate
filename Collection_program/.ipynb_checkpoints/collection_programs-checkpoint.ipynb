{
 "cells": [
  {
   "cell_type": "code",
   "execution_count": 5,
   "id": "c0d543f0-4143-4be6-91da-4781ba673d78",
   "metadata": {},
   "outputs": [
    {
     "name": "stdout",
     "output_type": "stream",
     "text": [
      "[1, 1, 1, 1, 2, 2, 2, 2, 3, 4, 6, 5]\n"
     ]
    }
   ],
   "source": [
    "#Python program that iterate over elements repeating each as many times as its count\n",
    "\n",
    "def repeat_elements(arr):\n",
    "    result = []\n",
    "    for num in arr:\n",
    "        result.extend([num] * arr.count(num))\n",
    "    return result\n",
    "\n",
    "#example array\n",
    "arr = [1,1,2,2,3,4,6,5]\n",
    "\n",
    "\n",
    "#display\n",
    "\n",
    "print(f'{repeat_elements(arr)}')"
   ]
  },
  {
   "cell_type": "code",
   "execution_count": 12,
   "id": "fc0e880a-a270-4262-bc48-a0aec8542a82",
   "metadata": {},
   "outputs": [
    {
     "name": "stdout",
     "output_type": "stream",
     "text": [
      "[('tassang,', 2), ('hage', 1), ('hello', 1), ('bye', 1), ('ewww', 1)]\n"
     ]
    }
   ],
   "source": [
    "#python program to find the mosst common element and their counts of a specified text.\n",
    "from collections import Counter\n",
    "\n",
    "def most_common_element(text):\n",
    "    #conversion \n",
    "    character = list(text.split())\n",
    "\n",
    "    #counter\n",
    "    counter = Counter(character)\n",
    "\n",
    "    #most_common using .most_common()\n",
    "    most_common = Counter.most_common(counter)\n",
    "    return most_common\n",
    "\n",
    "\n",
    "#example test\n",
    "text =  'hage tassang tassang hello bye ewww'\n",
    "\n",
    "#display\n",
    "print(f'{most_common_element(text)}')"
   ]
  },
  {
   "cell_type": "code",
   "execution_count": 9,
   "id": "bcfcf586-46af-4dec-aab1-4ba080e5dacc",
   "metadata": {},
   "outputs": [
    {
     "name": "stdout",
     "output_type": "stream",
     "text": [
      "c\n",
      "b\n",
      "a\n"
     ]
    }
   ],
   "source": [
    "#python program to create a new deque and iterate over it\n",
    "from collections import deque\n",
    "def iterate_deque():\n",
    "    #create a new deque\n",
    "    my_deque = deque(['c','b','a'])\n",
    "    for item in my_deque:\n",
    "        print(item)\n",
    "iterate_deque()"
   ]
  },
  {
   "cell_type": "code",
   "execution_count": 13,
   "id": "20ee8d48-35a6-4664-bd49-00783c4ffa7e",
   "metadata": {},
   "outputs": [
    {
     "name": "stdout",
     "output_type": "stream",
     "text": [
      " 10 most coomon words [('the', 10), ('are', 4), ('compiler', 3), ('options', 3), ('future', 3), ('can', 3), ('be', 3), ('optimization', 3), ('of', 3), ('by', 2)]\n"
     ]
    }
   ],
   "source": [
    "from collections import Counter\n",
    "import re\n",
    "\n",
    "def most_common_words(text):\n",
    "    # remove punctuation and convert text to lowercase\n",
    "    cleaned_text = re.sub(r'[^a-zA-Z\\s]', '', text.lower())\n",
    "    #split text into words\n",
    "    words = cleaned_text.split()\n",
    "    #count occurence of each word\n",
    "    word_counter =  Counter(words)\n",
    "    #find the 10 most common occurence\n",
    "    most_common =  word_counter.most_common(10)\n",
    "    return most_common\n",
    "\n",
    "text = '''Compiler options and future statements are specified by bits which can be bitwise ORed together to specify multiple options. The bitfield required to specify a given future feature can be found as the compiler_flag attribute on the _Feature instance in the __future__ module. Compiler flags can be found in ast module, with PyCF_ prefix.\n",
    "\n",
    "The argument optimize specifies the optimization level of the compiler; the default value of -1 selects the optimization level of the interpreter as given by -O options. Explicit levels are 0 (no optimization; __debug__ is true), 1 (asserts are removed, __debug__ is false) or 2 (docstrings are removed too).'''\n",
    "print(f' 10 most coomon words {most_common_words(text)}')"
   ]
  },
  {
   "cell_type": "code",
   "execution_count": 20,
   "id": "dde310f9-42cd-4478-a1c5-e3726b0f01ac",
   "metadata": {},
   "outputs": [
    {
     "name": "stdin",
     "output_type": "stream",
     "text": [
      "enter some words:  hello hello people hi hi\n"
     ]
    },
    {
     "name": "stdout",
     "output_type": "stream",
     "text": [
      "number of distinct words: 3\n",
      "hello: 2\n",
      "people: 1\n",
      "hi: 2\n"
     ]
    }
   ],
   "source": [
    "#python program that accept some words and the count the number of distinct words.print the no. of distinct words and number of occurence of each distinct words\n",
    "def count_distinct_words(words):\n",
    "    #dict for holding data\n",
    "    word_count = {}\n",
    "    for word in words:\n",
    "        word_count[word] = word_count.get(word, 0)+1\n",
    "\n",
    "    #print the number of occurence \n",
    "    print(f'number of distinct words: {len(word_count)}')\n",
    "    for w, c in word_count.items():\n",
    "        print(f'{w}: {c}')\n",
    "\n",
    "#accepts words \n",
    "words = input('enter some words: ').split()\n",
    "\n",
    "count_distinct_words(words)"
   ]
  },
  {
   "cell_type": "code",
   "execution_count": 19,
   "id": "69d6437b-b5cf-4017-b7d0-c3a3607ef1e4",
   "metadata": {},
   "outputs": [
    {
     "name": "stdout",
     "output_type": "stream",
     "text": [
      "Help on built-in function get:\n",
      "\n",
      "get(key, default=None, /) method of builtins.dict instance\n",
      "    Return the value for key if key is in the dictionary, else default.\n",
      "\n"
     ]
    }
   ],
   "source": []
  },
  {
   "cell_type": "code",
   "execution_count": null,
   "id": "c4c73e40-2a78-4ebf-868f-93733c8516e7",
   "metadata": {},
   "outputs": [],
   "source": []
  },
  {
   "cell_type": "code",
   "execution_count": null,
   "id": "4f361acd-6960-46ab-8b03-d1c6ef5a07bf",
   "metadata": {},
   "outputs": [],
   "source": []
  },
  {
   "cell_type": "code",
   "execution_count": null,
   "id": "dbaff707-bf0d-47a0-b42a-6ea1b2fbb8e3",
   "metadata": {},
   "outputs": [],
   "source": []
  },
  {
   "cell_type": "code",
   "execution_count": null,
   "id": "03cfd331-acc7-49f4-bd06-a545a9012e8b",
   "metadata": {},
   "outputs": [],
   "source": []
  },
  {
   "cell_type": "code",
   "execution_count": null,
   "id": "3559c0e6-bd75-4725-a735-da684b1e53e9",
   "metadata": {},
   "outputs": [],
   "source": []
  }
 ],
 "metadata": {
  "kernelspec": {
   "display_name": "Python 3 (ipykernel)",
   "language": "python",
   "name": "python3"
  },
  "language_info": {
   "codemirror_mode": {
    "name": "ipython",
    "version": 3
   },
   "file_extension": ".py",
   "mimetype": "text/x-python",
   "name": "python",
   "nbconvert_exporter": "python",
   "pygments_lexer": "ipython3",
   "version": "3.13.5"
  }
 },
 "nbformat": 4,
 "nbformat_minor": 5
}
