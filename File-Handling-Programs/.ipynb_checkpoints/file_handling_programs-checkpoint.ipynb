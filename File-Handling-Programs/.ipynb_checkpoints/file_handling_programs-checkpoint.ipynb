{
 "cells": [
  {
   "cell_type": "code",
   "execution_count": 2,
   "id": "33111db3-2c89-4db4-9dc4-80d16dd5649d",
   "metadata": {},
   "outputs": [
    {
     "name": "stdin",
     "output_type": "stream",
     "text": [
      "What is the name of the file:  test1\n",
      "Write what you want into the field ahhhhhrhrhr\n"
     ]
    }
   ],
   "source": [
    "import os\n",
    "\n",
    "#config\n",
    "path_to_save = 'T:\\\\PythonLearnFromAndroidAppPlatform\\\\File-Handling-Programs\\\\program_outputs'\n",
    "path_to_readFrom = 'T:\\\\PythonLearnFromAndroidAppPlatform\\\\File-Handling-Programs\\\\read_from'\n",
    "#cwd = 'T:\\\\PythonLearnFromAndroidAppPlatform\\\\File-Handling-Programs'\n",
    "name_of_file = input(\"What is the name of the file: \")\n",
    "#joins input filename with .txt for extension and path + filename.txt for file handling program practices\n",
    "complete_name = os.path.join(path_to_save, name_of_file + \".txt\")\n",
    "\n",
    "\n",
    "#test scripts\n",
    "with open(complete_name, \"w\") as file:\n",
    "    to_file = input(\"Write what you want into the field\")\n",
    "    file.write(to_file)   "
   ]
  },
  {
   "cell_type": "code",
   "execution_count": 12,
   "id": "fccc3c38-85ed-4719-ae86-c20d497fa957",
   "metadata": {},
   "outputs": [
    {
     "name": "stdout",
     "output_type": "stream",
     "text": [
      "working..............\n"
     ]
    }
   ],
   "source": [
    "with open(complete_name, \"r\") as file:\n",
    "    content = file.readline()\n",
    "print(content)"
   ]
  },
  {
   "cell_type": "code",
   "execution_count": 21,
   "id": "d1e1d516-2d0c-4a6b-9643-46ee3ad3abac",
   "metadata": {},
   "outputs": [
    {
     "name": "stdout",
     "output_type": "stream",
     "text": [
      "It may here be necessary to make a remark, in order to caution those who\n",
      "are new at this kind of classification from putting words in the same\n",
      "class merely because they happen to terminate with certain letters that\n",
      "are the same. Thus it would be absurd to class under the head of\n",
      "diminutives such words as, _doubling_, _tippling_, _troubling_, merely\n",
      "because they appear to terminate in _ling_; they clearly belong to the\n",
      "words in _ing_, and are formed from the words _double_, _tipple_,\n",
      "_trouble_.\n",
      "This termination has been introduced into our language from the Latin,\n",
      "and in some instances differs in meaning very little, or not at all,\n",
      "from that in _ing_. Thus we could say, _calculating_, _educating_, as\n",
      "well as _calculation_, _education_. Words like _nation_, _station_, &c.\n",
      "are pure Latin words, differing from the nominative case of those in the\n",
      "language from which they are derived, only in having an _n_ at the end\n",
      "of the word.\n"
     ]
    }
   ],
   "source": [
    "#read from that dir\n",
    "#name_of_file = 'the_penny_magazine'\n",
    "name_of_file = 'small_words'\n",
    "path_to_readFrom = 'T:\\\\PythonLearnFromAndroidAppPlatform\\\\File-Handling-Programs\\\\read_from'\n",
    "complete_name1 = os.path.join(path_to_readFrom, name_of_file + \".txt\")\n",
    "with open(complete_name1, \"r\",encoding='utf-8') as file:\n",
    "    content1 = file.read()\n",
    "print(content1)"
   ]
  },
  {
   "cell_type": "code",
   "execution_count": 20,
   "id": "adc97e49-0b36-4879-8ece-30281627204c",
   "metadata": {},
   "outputs": [
    {
     "name": "stdout",
     "output_type": "stream",
     "text": [
      "content of path dir where u will save files:  ['first_test_path_save.txt.txt', 'hg.txt.txt', 'test1.txt']\n",
      "\n",
      "content of path dir where u will read files:  ['small_words.txt', 'the_penny_magazine.txt']\n"
     ]
    }
   ],
   "source": [
    "#Show content of that path dir\n",
    "from os import listdir\n",
    "from os.path import isfile, join\n",
    "path_to_save = 'T:\\\\PythonLearnFromAndroidAppPlatform\\\\File-Handling-Programs\\\\program_outputs'\n",
    "path_to_readFrom = 'T:\\\\PythonLearnFromAndroidAppPlatform\\\\File-Handling-Programs\\\\read_from'\n",
    "onlyfiles = [f for f in listdir(path_to_save) if isfile(join(path_to_save, f))]\n",
    "onlyfiles1 = [f for f in listdir(path_to_readFrom) if isfile(join(path_to_readFrom, f))]\n",
    "print('content of path dir where u will save files: ',onlyfiles)\n",
    "print()\n",
    "print('content of path dir where u will read files: ',onlyfiles1)  "
   ]
  },
  {
   "cell_type": "code",
   "execution_count": null,
   "id": "19ca94ae-fb0b-44aa-acd8-58566b4d077c",
   "metadata": {},
   "outputs": [],
   "source": [
    "#_________Real Programs everything set up perfectly for this practice________________#\n",
    "#Note: change dir and path to your desired project or practice folder path/-dont use this use path//toyour//outputDir\n"
   ]
  },
  {
   "cell_type": "code",
   "execution_count": 9,
   "id": "fb1c2b72-6ea1-4333-b5c5-58cf1a46b091",
   "metadata": {},
   "outputs": [
    {
     "name": "stdin",
     "output_type": "stream",
     "text": [
      "What is the name of the file:  small_words\n"
     ]
    },
    {
     "name": "stdout",
     "output_type": "stream",
     "text": [
      "That part of Italy which borders the Mediterranean, from the mountains\n",
      "\n",
      "of Genoa to the extremity of Calabria, a length of about seven hundred\n",
      "\n",
      "miles, consists, except in a few places, such as Naples, where hills\n",
      "\n",
      "intervene, of a broad stripe of flat country extending from the\n",
      "\n",
      "sea-shore to the lower ridges of the Apennine mountains.\n"
     ]
    }
   ],
   "source": [
    "#Python from to read from file word by word\n",
    "import time\n",
    "name_of_file = input(\"What is the name of the file: \")\n",
    "path_to_readFrom = 'T:\\\\PythonLearnFromAndroidAppPlatform\\\\File-Handling-Programs\\\\read_from'\n",
    "complete_name = os.path.join(path_to_readFrom, name_of_file + \".txt\")\n",
    "with open(complete_name,'r',encoding='utf-8') as file: # doc - open(path+nameofFile,'how u wanna interpret the file like r,w,b,r+',encoding='')\n",
    "    #read each line from the file\n",
    "    for line in file:\n",
    "        time.sleep(1)\n",
    "        print(line,end='\\n') #see and understand how for loops works in large text files and text data\n",
    "        #split the line into words\n",
    "        #words = line.split()\n",
    "        #for word in words:\n",
    "            #print each word\n",
    "            #print(word)"
   ]
  },
  {
   "cell_type": "code",
   "execution_count": 4,
   "id": "971a494b-58ba-4f57-8567-18046d9b9684",
   "metadata": {},
   "outputs": [
    {
     "name": "stdin",
     "output_type": "stream",
     "text": [
      "What is the name of the file:  small_words\n"
     ]
    },
    {
     "name": "stdout",
     "output_type": "stream",
     "text": [
      "that  par t of  ita ly w hich  bor ders  the  med iter rane an,  from  the  mou ntai ns\n",
      "o f ge noa  to t he e xtre mity  of  cala bria , a  leng th o f ab out  seve n hu ndre d\n",
      "mi les,  con sist s, e xcep t in  a f ew p lace s, s uch  as n aple s, w here  hil ls\n",
      "i nter vene , of  a b road  str ipe  of f lat  coun try  exte ndin g fr om t he\n",
      "s ea-s hore  to  the  lowe r ri dges  of  the  apen nine  mou ntai ns. "
     ]
    }
   ],
   "source": [
    "#Python program to read character by character\n",
    "import os\n",
    "name_of_file = input(\"What is the name of the file: \")\n",
    "path_to_readFrom = 'T:\\\\PythonLearnFromAndroidAppPlatform\\\\File-Handling-Programs\\\\read_from'\n",
    "complete_name = os.path.join(path_to_readFrom, name_of_file + \".txt\")\n",
    "with open(complete_name,'r',encoding='utf-8') as file:\n",
    "    while True:\n",
    "        char =  file.read(1)\n",
    "        #Check if char is empty (then end of file)\n",
    "        if not char:\n",
    "            break\n",
    "        print(char.lower(),end=' ')"
   ]
  },
  {
   "cell_type": "code",
   "execution_count": 10,
   "id": "a39f4000-0b8f-4cd4-bb54-43bdcfd63790",
   "metadata": {},
   "outputs": [
    {
     "name": "stdout",
     "output_type": "stream",
     "text": [
      "In this File the_penny_magazine\n",
      "From this directory T:\\PythonLearnFromAndroidAppPlatform\\File-Handling-Programs\\read_from\\the_penny_magazine.txt has:\n",
      "Number of words: 11362\n",
      "Number of characters: 70463\n",
      "Number of line: 1330\n",
      "Number of spaces: 12380\n",
      "Number of given words like--> which <--: 81\n"
     ]
    }
   ],
   "source": [
    "#Python - Get number of characters, words, spaces and line\n",
    "#Python from to read from file word by word----after understanding this one u can proceed further\n",
    "import os\n",
    "def get_file_stats(filename, checkWords):\n",
    "    num_of_words = 0\n",
    "    num_of_chars = 0\n",
    "    num_of_line = 0\n",
    "    num_of_spaces = 0\n",
    "    num_of_given_words = 0\n",
    "    with open(filename,'r',encoding='utf-8') as file:\n",
    "        for line in file:\n",
    "            #increment number of lines\n",
    "            num_of_line += 1\n",
    "            #for number of chars\n",
    "            num_of_chars += len(line)\n",
    "            #number of words\n",
    "            word = line.split()\n",
    "            num_of_words += len(word)\n",
    "            #number of spaces\n",
    "            num_of_spaces += line.count(' ')\n",
    "            #number of given words present\n",
    "            word1 = line.split()\n",
    "            if checkWords in word1:\n",
    "                num_of_given_words+=1\n",
    "    return {'total_words':num_of_words, 'total_char':num_of_chars, 'total_line':num_of_line, 'total_spaces':num_of_spaces,'total_words_same_kind':num_of_given_words} #returned data in dictionary container format to interpret it easily with keys name\n",
    "\n",
    "#path and file config to read from\n",
    "name_of_file = 'the_penny_magazine'\n",
    "path_to_readFrom = 'T:\\\\PythonLearnFromAndroidAppPlatform\\\\File-Handling-Programs\\\\read_from'\n",
    "complete_name = os.path.join(path_to_readFrom, name_of_file + \".txt\")\n",
    "words_to_check = 'which'\n",
    "\n",
    "status_of_file = get_file_stats(complete_name, words_to_check)\n",
    "\n",
    "print(f'In this File {name_of_file}\\nFrom this directory {complete_name} has:\\nNumber of words: {status_of_file['total_words']}\\nNumber of characters: {status_of_file['total_char']}\\nNumber of line: {status_of_file['total_line']}\\nNumber of spaces: {status_of_file['total_spaces']}\\nNumber of given words like--> {words_to_check} <--: {status_of_file['total_words_same_kind']}')"
   ]
  },
  {
   "cell_type": "code",
   "execution_count": null,
   "id": "c697cad5-e9d6-4501-9583-2a41f46db825",
   "metadata": {},
   "outputs": [],
   "source": [
    "#Python program for len of nth-size characters words in a text file\n",
    "import os\n",
    "def find_n_lenWords_char(filename,nLenChar):\n",
    "    n_Lenchar_words = []\n",
    "    with open(filename,'r',encoding='utf-8') as file:\n",
    "        for lines in file:\n",
    "            words = lines.split()\n",
    "            for word in words:\n",
    "                if len(word) == nLenChar:\n",
    "                    n_Lenchar_words.append(word)\n",
    "    return n_Lenchar_words\n",
    "name_of_file = 'the_penny_magazine'\n",
    "path_to_readFrom = 'T:\\\\PythonLearnFromAndroidAppPlatform\\\\File-Handling-Programs\\\\read_from'\n",
    "complete_name = os.path.join(path_to_readFrom, name_of_file + \".txt\")\n",
    "n = 5\n",
    "n_len_words = find_n_lenWords_char(complete_name,n)\n",
    "\n",
    "#display list data in well formatted way\n",
    "i = 0\n",
    "print(f'Those length of  {n} character words are:\\n')\n",
    "for l in n_len_words:\n",
    "    print(f'\\nSerial.No: {i}\\t-- {l}')\n",
    "    i+=1\n",
    "#uncomment to see whole list of n character in raw list format\n",
    "#print(f'\\nThose length of  {n} character words are:\\n {n_len_words}')"
   ]
  },
  {
   "cell_type": "code",
   "execution_count": 46,
   "id": "85c4aa1e-fcff-460f-a557-0e192705db01",
   "metadata": {},
   "outputs": [
    {
     "name": "stdout",
     "output_type": "stream",
     "text": [
      "Number of lines:  5\n"
     ]
    }
   ],
   "source": [
    "#Python program to count number of lines in a file\n",
    "import os\n",
    "def count_total_lines_of_file(filename):\n",
    "    line_size = 0\n",
    "    with open(filename,'r') as file:\n",
    "        for line in file:\n",
    "            line_size+=1\n",
    "    return line_size\n",
    "\n",
    "name_of_file = 'small_words'\n",
    "path_to_readFrom = 'T:\\\\PythonLearnFromAndroidAppPlatform\\\\File-Handling-Programs\\\\read_from'\n",
    "complete_name = os.path.join(path_to_readFrom, name_of_file + \".txt\")\n",
    "count_lines = count_total_lines_of_file(complete_name)\n",
    "print('Number of lines: ',count_lines)"
   ]
  },
  {
   "cell_type": "code",
   "execution_count": 22,
   "id": "29624f9c-3d9a-4c2a-82e6-05001fa226c3",
   "metadata": {},
   "outputs": [
    {
     "name": "stdout",
     "output_type": "stream",
     "text": [
      "It may here be necessary to make a remark, in order to caution those who\n",
      "are new at this kind of classification from putting words in the same\n",
      "class merely because they happen to terminate with certain letters that\n",
      "are the same. Thus it would be absurd to class under the head of\n",
      "diminutives such words as, _doubling_, _tippling_, _troubling_, merely\n",
      "because they appear to terminate in _ling_; they clearly belong to the\n",
      "words in _ing_, and are formed from the words _double_, _tipple_,\n",
      "_trouble_.\n",
      "and in some instances differs in meaning very little, or not at all,\n",
      "from that in _ing_. Thus we could say, _calculating_, _educating_, as\n",
      "well as _calculation_, _education_. Words like _nation_, _station_, &c.\n",
      "are pure Latin words, differing from the nominative case of those in the\n",
      "language from which they are derived, only in having an _n_ at the end\n",
      "of the word.\n"
     ]
    }
   ],
   "source": [
    "#Python program to remove lines starting from prefix using python\n",
    "import os\n",
    "def remove_lines_with_prefix(filename, prefix):\n",
    "    #open the file in read mode\n",
    "    with open(filename,'r') as file:\n",
    "        #read all line using readline()\n",
    "        lines = file.readlines()\n",
    "    with open(filename,'w') as file:\n",
    "        # go over each line in the lines holding that file data\n",
    "        for line in lines:\n",
    "            if not line.startswith(prefix):\n",
    "                #write again back to file and update with lines wihtout starting with prefix\n",
    "                file.write(line)\n",
    "    \n",
    "\n",
    "name_of_file = 'small_words'\n",
    "path_to_readFrom = 'T:\\\\PythonLearnFromAndroidAppPlatform\\\\File-Handling-Programs\\\\read_from'\n",
    "complete_name = os.path.join(path_to_readFrom, name_of_file + \".txt\")\n",
    "prefix = 'This'\n",
    "remove_lines_with_prefix(complete_name, prefix)\n",
    "#print('New file with removed: ', updated_file)\n",
    "with open(complete_name,'r') as file:\n",
    "    lines = file.read()\n",
    "    \n",
    "print(lines)\n",
    "    "
   ]
  },
  {
   "cell_type": "code",
   "execution_count": 49,
   "id": "4a6449f0-5226-40b8-9a60-8b785cbdf6d2",
   "metadata": {},
   "outputs": [],
   "source": [
    "#Python program to read from the list of dictionary file\n",
    "            #---vise versa--#\n",
    "#Python program to write to a file list of dictionary data\n",
    "#using json for dumping data\n",
    "import json #json module to serialize the data.\n",
    "import os\n",
    "'''\n",
    "# Sample list of dictionaries\n",
    "data = [\n",
    "    {\"name\": \"Alice\", \"age\": 30},\n",
    "    {\"name\": \"Bob\", \"age\": 25},\n",
    "    {\"name\": \"Charlie\", \"age\": 35}\n",
    "]\n",
    "\n",
    "# Write the list of dictionaries to output.txt\n",
    "with open('output.txt', 'w') as file:\n",
    "    json.dump(data, file, indent=2)\n",
    "\n",
    "'''\n",
    "#create file and add value \n",
    "def write_to_file_from_variable(filename,data_set):\n",
    "    with open(filename,'w') as file:\n",
    "        #first method trash wrong appraoch\n",
    "        for dic in str(data_set):\n",
    "            file.write(dic)\n",
    "        # right one fixed\n",
    "        for dic in data_set:\n",
    "            file.write(str(dic)+'\\n')\n",
    "        #json.dump(data, file, indent=2)\n",
    "#data set\n",
    "name_of_file = 'dict_list5'\n",
    "path_to_readFrom = 'T:\\\\PythonLearnFromAndroidAppPlatform\\\\File-Handling-Programs\\\\read_from'\n",
    "complete_name = os.path.join(path_to_readFrom, name_of_file + \".txt\")\n",
    "employees = [\n",
    "    {'Name': 'Sravan', 'Salary': 48000, 'age': 23},\n",
    "    {'Name': 'Raghu', 'Salary': 25000, 'age': 21},\n",
    "    {'Name': 'Ram', 'Salary': 21000, 'age': 23},\n",
    "    {'Name': 'Shivani', 'Salary': 148000, 'age': 31},\n",
    "    {'Name': 'Salma', 'Salary': 41000, 'age': 22}\n",
    "]\n",
    "write_to_file_from_variable(complete_name, employees)\n"
   ]
  },
  {
   "cell_type": "code",
   "execution_count": 50,
   "id": "1366aa41-55f2-4fb2-b8e0-52725b917134",
   "metadata": {},
   "outputs": [
    {
     "name": "stdout",
     "output_type": "stream",
     "text": [
      "List of dict:  [{'Name': 'Sravan', 'Salary': 48000, 'age': 23}, {'Name': 'Raghu', 'Salary': 25000, 'age': 21}, {'Name': 'Ram', 'Salary': 21000, 'age': 23}, {'Name': 'Shivani', 'Salary': 148000, 'age': 31}, {'Name': 'Salma', 'Salary': 41000, 'age': 22}]\n"
     ]
    }
   ],
   "source": [
    "#Python program to read from the list of dictionary file\n",
    "            #---vise versa--#\n",
    "#Python program to write to a file list of dictionary data\n",
    "import os\n",
    "def readfrom_dictList(filename):\n",
    "    dict_list = []\n",
    "    with open(filename,'r') as file:\n",
    "        #read all\n",
    "        lines = file.readlines()\n",
    "\n",
    "    for line in lines:\n",
    "        #convert line to to dict and append it to the list\n",
    "        dict_list.append(eval(line))\n",
    "    return dict_list\n",
    "        \n",
    "\n",
    "#read data func\n",
    "name_of_file = 'dict_list5'\n",
    "path_to_readFrom = 'T:\\\\PythonLearnFromAndroidAppPlatform\\\\File-Handling-Programs\\\\read_from'\n",
    "complete_name = os.path.join(path_to_readFrom, name_of_file + \".txt\")\n",
    "data = readfrom_dictList(complete_name)\n",
    "print('List of dict: ',data)"
   ]
  },
  {
   "cell_type": "code",
   "execution_count": 53,
   "id": "ee628539-5a87-4c2b-a87a-9e539a381e5b",
   "metadata": {},
   "outputs": [
    {
     "name": "stdout",
     "output_type": "stream",
     "text": [
      "are new at this kind of classification from putting words in the same\n",
      "are the same. Thus it would be absurd to class under the head of\n",
      "because they appear to terminate in _ling_; they clearly belong to the\n",
      "_trouble_.\n",
      "from that in _ing_. Thus we could say, _calculating_, _educating_, as\n",
      "are pure Latin words, differing from the nominative case of those in the\n",
      "of the word.\n"
     ]
    }
   ],
   "source": [
    "#Python program to copy odd lines from one file to another file\n",
    "import os\n",
    "def copy_odd_lines(input_file, output_file):\n",
    "    #open input file in read mode\n",
    "    with open(input_file,'r') as inp_file:\n",
    "        \n",
    "        #write to output file in write mode\n",
    "        with open(output_file,'w') as out_file:\n",
    "            #iterate using enumerate\n",
    "            for index, line in enumerate(inp_file):\n",
    "                # if check if that per line number is odd then only write to output file\n",
    "                if index % 2 != 0:\n",
    "                    out_file.write(line)\n",
    "#params\n",
    "name_of_file = 'small_words'\n",
    "name_of_file1 = 'output_odd'\n",
    "path_to_readFrom = 'T:\\\\PythonLearnFromAndroidAppPlatform\\\\File-Handling-Programs\\\\read_from'\n",
    "path_to_save = 'T:\\\\PythonLearnFromAndroidAppPlatform\\\\File-Handling-Programs\\\\program_outputs'\n",
    "complete_name = os.path.join(path_to_readFrom, name_of_file + \".txt\")\n",
    "complete_name1 = os.path.join(path_to_save, name_of_file1 + \".txt\")\n",
    "\n",
    "copy_odd_lines(complete_name, complete_name1)\n",
    "\n",
    "with open(complete_name1,'r') as file:\n",
    "    lines = file.read()\n",
    "print(lines)"
   ]
  },
  {
   "cell_type": "markdown",
   "id": "9998fcb9-67ee-4320-9778-2167debef94d",
   "metadata": {},
   "source": [
    "from pathlib import Path\n",
    "\n",
    "# Define the file path\n",
    "file_path = Path(\"output.txt\")\n",
    "\n",
    "# Check if the file exists; if not, it will be created on write\n",
    "# Using try-except to handle file creation and writing\n",
    "try:\n",
    "    with file_path.open('w') as f:\n",
    "        for dict_item in list_of_dictionaries:\n",
    "            # Handle values that might be lists\n",
    "            line = \"  \".join(str(val) if not isinstance(val, list) else \" \".join(map(str, val)) for val in dict_item.values())\n",
    "            f.write(line + \"\\n\")\n",
    "    print(\"List of dictionaries written to output.txt successfully.\")\n",
    "except Exception as e:\n",
    "    print(f\"An error occurred: {e}\")\n",
    "\n",
    "freaking example code so i understand and experiment later on"
   ]
  },
  {
   "cell_type": "code",
   "execution_count": null,
   "id": "d74f524f-ac3a-4a54-abdf-f9f392963396",
   "metadata": {},
   "outputs": [],
   "source": []
  }
 ],
 "metadata": {
  "kernelspec": {
   "display_name": "Python 3 (ipykernel)",
   "language": "python",
   "name": "python3"
  },
  "language_info": {
   "codemirror_mode": {
    "name": "ipython",
    "version": 3
   },
   "file_extension": ".py",
   "mimetype": "text/x-python",
   "name": "python",
   "nbconvert_exporter": "python",
   "pygments_lexer": "ipython3",
   "version": "3.13.5"
  }
 },
 "nbformat": 4,
 "nbformat_minor": 5
}
