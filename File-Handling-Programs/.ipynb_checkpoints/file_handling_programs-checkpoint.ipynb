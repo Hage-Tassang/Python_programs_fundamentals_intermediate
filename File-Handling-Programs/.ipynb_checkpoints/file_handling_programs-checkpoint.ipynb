{
 "cells": [
  {
   "cell_type": "code",
   "execution_count": 4,
   "id": "7180f38a-f577-4cc9-ae62-622b51046fb7",
   "metadata": {},
   "outputs": [
    {
     "name": "stdin",
     "output_type": "stream",
     "text": [
      "What is the name of the file:  first_test_path_save.txt\n",
      "Write what you want into the field working..............\n"
     ]
    }
   ],
   "source": [
    "import os\n",
    "\n",
    "#config\n",
    "path_to_save = 'T:\\\\PythonLearnFromAndroidAppPlatform\\\\File-Handling-Programs\\\\program_outputs'\n",
    "path_to_readFrom = 'T:\\\\PythonLearnFromAndroidAppPlatform\\\\File-Handling-Programs\\\\read_from'\n",
    "#cwd = 'T:\\\\PythonLearnFromAndroidAppPlatform\\\\File-Handling-Programs'\n",
    "name_of_file = input(\"What is the name of the file: \")\n",
    "complete_name = os.path.join(path_to_save, name_of_file + \".txt\")\n",
    "\n",
    "#test scrputs\n",
    "with open(complete_name, \"w\") as file:\n",
    "    to_file = input(\"Write what you want into the field\")\n",
    "    file.write(to_file)   "
   ]
  },
  {
   "cell_type": "code",
   "execution_count": 12,
   "id": "fccc3c38-85ed-4719-ae86-c20d497fa957",
   "metadata": {},
   "outputs": [
    {
     "name": "stdout",
     "output_type": "stream",
     "text": [
      "working..............\n"
     ]
    }
   ],
   "source": [
    "with open(complete_name, \"r\") as file:\n",
    "    content = file.readline()\n",
    "print(content)"
   ]
  },
  {
   "cell_type": "code",
   "execution_count": 16,
   "id": "aee74c90-f3ef-417f-87d7-64866c8b6d01",
   "metadata": {},
   "outputs": [
    {
     "name": "stdin",
     "output_type": "stream",
     "text": [
      "What is the name of the file:  the_penny_magazine.txt\n"
     ]
    },
    {
     "ename": "FileNotFoundError",
     "evalue": "[Errno 2] No such file or directory: 'T:\\\\PythonLearnFromAndroidAppPlatform\\\\File-Handling-Programs\\\\read_from\\\\the_penny_magazine.txt.txt'",
     "output_type": "error",
     "traceback": [
      "\u001b[31m---------------------------------------------------------------------------\u001b[39m",
      "\u001b[31mFileNotFoundError\u001b[39m                         Traceback (most recent call last)",
      "\u001b[36mCell\u001b[39m\u001b[36m \u001b[39m\u001b[32mIn[16]\u001b[39m\u001b[32m, line 3\u001b[39m\n\u001b[32m      1\u001b[39m name_of_file = \u001b[38;5;28minput\u001b[39m(\u001b[33m\"\u001b[39m\u001b[33mWhat is the name of the file: \u001b[39m\u001b[33m\"\u001b[39m)\n\u001b[32m      2\u001b[39m complete_name = os.path.join(path_to_readFrom, name_of_file + \u001b[33m\"\u001b[39m\u001b[33m.txt\u001b[39m\u001b[33m\"\u001b[39m)\n\u001b[32m----> \u001b[39m\u001b[32m3\u001b[39m \u001b[38;5;28;01mwith\u001b[39;00m \u001b[38;5;28;43mopen\u001b[39;49m\u001b[43m(\u001b[49m\u001b[43mcomplete_name\u001b[49m\u001b[43m,\u001b[49m\u001b[43m \u001b[49m\u001b[33;43m\"\u001b[39;49m\u001b[33;43mr\u001b[39;49m\u001b[33;43m\"\u001b[39;49m\u001b[43m)\u001b[49m \u001b[38;5;28;01mas\u001b[39;00m file:\n\u001b[32m      4\u001b[39m     content = file.readline()\n\u001b[32m      5\u001b[39m \u001b[38;5;28mprint\u001b[39m(content)\n",
      "\u001b[36mFile \u001b[39m\u001b[32m~\\AppData\\Local\\Programs\\Python\\Python313\\Lib\\site-packages\\IPython\\core\\interactiveshell.py:343\u001b[39m, in \u001b[36m_modified_open\u001b[39m\u001b[34m(file, *args, **kwargs)\u001b[39m\n\u001b[32m    336\u001b[39m \u001b[38;5;28;01mif\u001b[39;00m file \u001b[38;5;129;01min\u001b[39;00m {\u001b[32m0\u001b[39m, \u001b[32m1\u001b[39m, \u001b[32m2\u001b[39m}:\n\u001b[32m    337\u001b[39m     \u001b[38;5;28;01mraise\u001b[39;00m \u001b[38;5;167;01mValueError\u001b[39;00m(\n\u001b[32m    338\u001b[39m         \u001b[33mf\u001b[39m\u001b[33m\"\u001b[39m\u001b[33mIPython won\u001b[39m\u001b[33m'\u001b[39m\u001b[33mt let you open fd=\u001b[39m\u001b[38;5;132;01m{\u001b[39;00mfile\u001b[38;5;132;01m}\u001b[39;00m\u001b[33m by default \u001b[39m\u001b[33m\"\u001b[39m\n\u001b[32m    339\u001b[39m         \u001b[33m\"\u001b[39m\u001b[33mas it is likely to crash IPython. If you know what you are doing, \u001b[39m\u001b[33m\"\u001b[39m\n\u001b[32m    340\u001b[39m         \u001b[33m\"\u001b[39m\u001b[33myou can use builtins\u001b[39m\u001b[33m'\u001b[39m\u001b[33m open.\u001b[39m\u001b[33m\"\u001b[39m\n\u001b[32m    341\u001b[39m     )\n\u001b[32m--> \u001b[39m\u001b[32m343\u001b[39m \u001b[38;5;28;01mreturn\u001b[39;00m \u001b[43mio_open\u001b[49m\u001b[43m(\u001b[49m\u001b[43mfile\u001b[49m\u001b[43m,\u001b[49m\u001b[43m \u001b[49m\u001b[43m*\u001b[49m\u001b[43margs\u001b[49m\u001b[43m,\u001b[49m\u001b[43m \u001b[49m\u001b[43m*\u001b[49m\u001b[43m*\u001b[49m\u001b[43mkwargs\u001b[49m\u001b[43m)\u001b[49m\n",
      "\u001b[31mFileNotFoundError\u001b[39m: [Errno 2] No such file or directory: 'T:\\\\PythonLearnFromAndroidAppPlatform\\\\File-Handling-Programs\\\\read_from\\\\the_penny_magazine.txt.txt'"
     ]
    }
   ],
   "source": [
    "name_of_file = input(\"What is the name of the file: \")\n",
    "complete_name1 = os.path.join(path_to_readFrom, name_of_file + \".txt\")\n",
    "with open(complete_name1, \"r\") as file:\n",
    "    content = file.readline()\n",
    "print(content)"
   ]
  },
  {
   "cell_type": "code",
   "execution_count": 14,
   "id": "adc97e49-0b36-4879-8ece-30281627204c",
   "metadata": {},
   "outputs": [
    {
     "name": "stdout",
     "output_type": "stream",
     "text": [
      "content of path dir where u will save files:  ['first_test_path_save.txt.txt', 'hg.txt.txt']\n",
      "\n",
      "content of path dir where u will read files:  ['the_penny_magazine.txt']\n"
     ]
    }
   ],
   "source": [
    "#Show content of that path\n",
    "from os import listdir\n",
    "from os.path import isfile, join\n",
    "path_to_save = 'T:\\\\PythonLearnFromAndroidAppPlatform\\\\File-Handling-Programs\\\\program_outputs'\n",
    "path_to_readFrom = 'T:\\\\PythonLearnFromAndroidAppPlatform\\\\File-Handling-Programs\\\\read_from'\n",
    "onlyfiles = [f for f in listdir(path_to_save) if isfile(join(path_to_save, f))]\n",
    "onlyfiles1 = [f for f in listdir(path_to_readFrom) if isfile(join(path_to_readFrom, f))]\n",
    "print('content of path dir where u will save files: ',onlyfiles)\n",
    "print()\n",
    "print('content of path dir where u will read files: ',onlyfiles1)  "
   ]
  },
  {
   "cell_type": "code",
   "execution_count": null,
   "id": "91cada8f-925a-42da-999e-497d5b82b9bb",
   "metadata": {},
   "outputs": [],
   "source": []
  },
  {
   "cell_type": "code",
   "execution_count": null,
   "id": "fb1c2b72-6ea1-4333-b5c5-58cf1a46b091",
   "metadata": {},
   "outputs": [],
   "source": []
  },
  {
   "cell_type": "code",
   "execution_count": null,
   "id": "971a494b-58ba-4f57-8567-18046d9b9684",
   "metadata": {},
   "outputs": [],
   "source": []
  }
 ],
 "metadata": {
  "kernelspec": {
   "display_name": "Python 3 (ipykernel)",
   "language": "python",
   "name": "python3"
  },
  "language_info": {
   "codemirror_mode": {
    "name": "ipython",
    "version": 3
   },
   "file_extension": ".py",
   "mimetype": "text/x-python",
   "name": "python",
   "nbconvert_exporter": "python",
   "pygments_lexer": "ipython3",
   "version": "3.13.5"
  }
 },
 "nbformat": 4,
 "nbformat_minor": 5
}
