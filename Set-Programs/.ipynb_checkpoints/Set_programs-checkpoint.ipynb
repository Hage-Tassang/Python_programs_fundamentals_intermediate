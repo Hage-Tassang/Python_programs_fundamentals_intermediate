{
 "cells": [
  {
   "cell_type": "code",
   "execution_count": 2,
   "id": "df4ea2ac-2db8-45a0-9f0f-fef57f95f08e",
   "metadata": {},
   "outputs": [
    {
     "name": "stdout",
     "output_type": "stream",
     "text": [
      "symmetric difference of both sets:  {2, 3, 5, 7, 8}\n"
     ]
    }
   ],
   "source": [
    "#Python program for symmeteric difference  of sets\n",
    "set1 = {1,2,4,5,6,8}\n",
    "set2 = {1,4,6,3,7,6}\n",
    "symmeteric_diff = set1.symmetric_difference(set2)\n",
    "print('symmetric difference of both sets: ',symmeteric_diff)"
   ]
  },
  {
   "cell_type": "code",
   "execution_count": 3,
   "id": "156f6911-b665-4d09-ae1d-b698b61983ca",
   "metadata": {},
   "outputs": [
    {
     "name": "stdout",
     "output_type": "stream",
     "text": [
      "List without duplicates:  [1, 2, 3, 4, 5, 6]\n"
     ]
    }
   ],
   "source": [
    "#Python program to remove duplicate from a list using set\n",
    "dups_list = [1,3,3,1,4,5,6,2]\n",
    "dups_list.sort()\n",
    "removed_dups = set(dups_list)\n",
    "print('List without duplicates: ',list(removed_dups))"
   ]
  },
  {
   "cell_type": "code",
   "execution_count": 5,
   "id": "82881cdb-e523-4642-bced-dee252439034",
   "metadata": {},
   "outputs": [
    {
     "name": "stdout",
     "output_type": "stream",
     "text": [
      "created set with data using comprehension:  {2, 4, 6, 8, 10, 12, 14, 16, 18}\n"
     ]
    }
   ],
   "source": [
    "#python program of set comprehension\n",
    "set_data = {x*2 for x in range(1,10)}\n",
    "print('created set with data using comprehension: ',set_data)"
   ]
  },
  {
   "cell_type": "code",
   "execution_count": 7,
   "id": "e79cb97a-9b85-4cb2-8d4d-5ced61e38b1a",
   "metadata": {},
   "outputs": [
    {
     "name": "stdout",
     "output_type": "stream",
     "text": [
      "element is not present\n"
     ]
    }
   ],
   "source": [
    "#Python program to check for membership in set\n",
    "def checkElement(elem,set_data):\n",
    "    return elem in set_data\n",
    "set2 = {1,4,6,3,7,6}\n",
    "check_element = 8\n",
    "if checkElement(check_element, set2):\n",
    "    print('element is present')\n",
    "else:\n",
    "    print('element is not present')"
   ]
  },
  {
   "cell_type": "code",
   "execution_count": 10,
   "id": "8c0dd99f-8b10-400f-a9a6-d3803087e8f1",
   "metadata": {},
   "outputs": [
    {
     "name": "stdout",
     "output_type": "stream",
     "text": [
      "union: {1, 2, 3, 4, 5, 6, 7, 8}\n",
      "intersection: {1, 4, 6}\n",
      "difference: {8, 2, 5}\n"
     ]
    }
   ],
   "source": [
    "#Python program of set operations like union, Intersection and Difference of two Sets data\n",
    "#set-data\n",
    "set1 = {1,2,4,5,6,8}\n",
    "set2 = {1,4,6,3,7,6}\n",
    "\n",
    "# set union operation\n",
    "set_union = set1.union(set2)\n",
    "\n",
    "#set intersection\n",
    "set_intersection = set1.intersection(set2)\n",
    "#set difference\n",
    "\n",
    "set_difference = set1.difference(set2)\n",
    "\n",
    "#display\n",
    "print(f'union: {set_union}')\n",
    "\n",
    "print(f'intersection: {set_intersection}')\n",
    "\n",
    "print(f'difference: {set_difference}')\n",
    "\n",
    "#uncomment for mini docs\n",
    "#help(set.union)\n",
    "#help(set.intersection)\n",
    "#help(set.difference)"
   ]
  },
  {
   "cell_type": "code",
   "execution_count": 15,
   "id": "dde0e4f6-4980-404c-a0c7-945b69cc2609",
   "metadata": {},
   "outputs": [
    {
     "name": "stdout",
     "output_type": "stream",
     "text": [
      "Modified set:  {0, 1, 3, 4, 6, 7, 75, 26}\n"
     ]
    }
   ],
   "source": [
    "#Python program to add and remove elements in the sets\n",
    "my_set = {3,535,26,75}\n",
    "set2 = {1,4,6,3,7,6}\n",
    "#add elem\n",
    "my_set.add(0)\n",
    "#remove elem\n",
    "my_set.remove(535)\n",
    "#update set with new element from difference set\n",
    "my_set.update(set2)\n",
    "\n",
    "print('Modified set: ',my_set)\n",
    "\n",
    "#help(my_set.update)\n",
    "#help(my_set.add)\n",
    "#help(my_set.remove)"
   ]
  },
  {
   "cell_type": "code",
   "execution_count": 24,
   "id": "8559688a-b515-4b2d-adda-6a80f56402f8",
   "metadata": {},
   "outputs": [
    {
     "name": "stdout",
     "output_type": "stream",
     "text": [
      "data type : <class 'set'>\n",
      "data type:  <class 'dict'>\n"
     ]
    }
   ],
   "source": [
    "#python way to create set\n",
    "#method 1-\n",
    "new_set = {0} # using curly braces\n",
    "new_set1 = {} \n",
    "print('data type :',type(new_set)) # here u have add some element with like using key:value pairs then its treated as set\n",
    "print('data type: ',type(new_set1)) # print dict becoz empty curly braces is treated as dictionary"
   ]
  }
 ],
 "metadata": {
  "kernelspec": {
   "display_name": "Python 3 (ipykernel)",
   "language": "python",
   "name": "python3"
  },
  "language_info": {
   "codemirror_mode": {
    "name": "ipython",
    "version": 3
   },
   "file_extension": ".py",
   "mimetype": "text/x-python",
   "name": "python",
   "nbconvert_exporter": "python",
   "pygments_lexer": "ipython3",
   "version": "3.13.5"
  }
 },
 "nbformat": 4,
 "nbformat_minor": 5
}
