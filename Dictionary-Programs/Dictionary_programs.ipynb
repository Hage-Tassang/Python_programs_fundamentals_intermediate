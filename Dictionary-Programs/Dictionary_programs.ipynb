{
 "cells": [
  {
   "cell_type": "code",
   "execution_count": 42,
   "id": "92994671-454f-43e9-9ff2-a3f77fe082a6",
   "metadata": {},
   "outputs": [
    {
     "name": "stdout",
     "output_type": "stream",
     "text": [
      "key associated with value 3: []\n"
     ]
    }
   ],
   "source": [
    "#Python program to find keys associated with that value in dictionary\n",
    "def findKeysWithSameValue(inp_dict, to_find):\n",
    "    k_list = []\n",
    "    for k, v in inp_dict.items():\n",
    "        if v == to_find:\n",
    "            k_list.append(k)\n",
    "        if k_list:\n",
    "            \n",
    "    return k_list\n",
    "\n",
    "\n",
    "#input dict\n",
    "inp_dict = {'a':1,'b':2, 'c':1}\n",
    "val_to_find = 3\n",
    "k_list = findKeysWithSameValue(inp_dict, val_to_find)\n",
    "print('key associated with value {}: {}'.format((val_to_find), k_list))"
   ]
  }
 ],
 "metadata": {
  "kernelspec": {
   "display_name": "Python 3 (ipykernel)",
   "language": "python",
   "name": "python3"
  },
  "language_info": {
   "codemirror_mode": {
    "name": "ipython",
    "version": 3
   },
   "file_extension": ".py",
   "mimetype": "text/x-python",
   "name": "python",
   "nbconvert_exporter": "python",
   "pygments_lexer": "ipython3",
   "version": "3.13.5"
  }
 },
 "nbformat": 4,
 "nbformat_minor": 5
}
