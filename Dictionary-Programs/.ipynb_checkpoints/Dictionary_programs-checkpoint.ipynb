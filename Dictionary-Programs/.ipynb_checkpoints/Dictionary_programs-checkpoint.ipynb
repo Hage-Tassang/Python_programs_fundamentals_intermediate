{
 "cells": [
  {
   "cell_type": "code",
   "execution_count": 163,
   "id": "92994671-454f-43e9-9ff2-a3f77fe082a6",
   "metadata": {},
   "outputs": [
    {
     "name": "stdout",
     "output_type": "stream",
     "text": [
      "key associated with value 2: ['b']\n"
     ]
    }
   ],
   "source": [
    "#Python program to find keys associated with that value in dictionary\n",
    "def findKeysWithSameValue(inp_dict, to_find):\n",
    "    k_list = []\n",
    "    for k, v in inp_dict.items():\n",
    "        if v == to_find:\n",
    "            k_list.append(k)\n",
    "            \n",
    "    return k_list\n",
    "\n",
    "\n",
    "#input dict\n",
    "inp_dict = {'a':1,'b':2, 'c':1}\n",
    "val_to_find = 2\n",
    "k_list = findKeysWithSameValue(inp_dict, val_to_find)\n",
    "\n",
    "if k_list:\n",
    "    print('key associated with value {}: {}'.format((val_to_find), k_list))\n",
    "else:\n",
    "    k_list = None\n",
    "    print('key associated with value {}: {}'.format((val_to_find), k_list))"
   ]
  },
  {
   "cell_type": "code",
   "execution_count": 155,
   "id": "ede6e9ff-770b-4a90-8a31-77ad1a286089",
   "metadata": {},
   "outputs": [
    {
     "name": "stdout",
     "output_type": "stream",
     "text": [
      "Unique values:  [1, 2, 3]\n"
     ]
    }
   ],
   "source": [
    "from collections import OrderedDict\n",
    "#function to extract unique values\n",
    "def extract_unique_vals(inpDic):\n",
    "    #create an empty OrderedDic to preserve the order of insertion\n",
    "    unq_val = OrderedDict()\n",
    "    #iterate through each key value pair in the dictionary\n",
    "    for value in inpDic.values():\n",
    "        if value not in unq_val.values(): #with or without .values it will works as u will be setting input dict values as key to ordered dict keys and values set to none in for loop\n",
    "            unq_val[value] = None\n",
    "    return list(unq_val.keys())\n",
    "input_dic = {'a':1, 'b':2 ,'c':1 ,'d':3,'e':2}\n",
    "extract_vals = extract_unique_vals(input_dic)\n",
    "print('Unique values: ',extract_vals)"
   ]
  },
  {
   "cell_type": "code",
   "execution_count": 153,
   "id": "1b099c29-9f9d-426c-b474-76d81ea8a061",
   "metadata": {},
   "outputs": [
    {
     "name": "stdout",
     "output_type": "stream",
     "text": [
      "Summed dictionary:  9\n",
      "Summed dictionary:  9\n",
      "using reduce:  9\n"
     ]
    }
   ],
   "source": [
    "#python program to find the sum of all items in dictionary\n",
    "def sum_all_value_of_keys(dic):\n",
    "    return sum(dic.values())\n",
    "input_dic = {'a':1, 'b':2 ,'c':1 ,'d':3,'e':2}\n",
    "print('Summed dictionary: ',sum_all_value_of_keys(input_dic))\n",
    "\n",
    "#method 2 using for loop\n",
    "def sum_all_value_of_keys1(dic):\n",
    "    summed = 0\n",
    "    for value in dic.values():\n",
    "        summed+=value\n",
    "    return summed\n",
    "print('Summed dictionary: ',sum_all_value_of_keys1(input_dic))\n",
    "\n",
    "#using reduce\n",
    "from functools import reduce\n",
    "def usingReduceToSumDicValue(dic):\n",
    "    dic_val_to_list = [x for x in dic.values()]\n",
    "    summed = reduce(lambda x,y: x+y,dic_val_to_list)\n",
    "    return summed\n",
    "print('using reduce: ',usingReduceToSumDicValue(input_dic))"
   ]
  },
  {
   "cell_type": "code",
   "execution_count": 164,
   "id": "ff27e67f-e694-401a-bbcf-a97966325fd6",
   "metadata": {},
   "outputs": [
    {
     "name": "stdout",
     "output_type": "stream",
     "text": [
      "Is key removed:  True\n",
      "Modified dic:  {'a': 1, 'c': 3}\n"
     ]
    }
   ],
   "source": [
    "#python Ways to remove a key from dictionary-  using del\n",
    "def remove_key_with_del(dic, key_remove):\n",
    "    try:\n",
    "        del dic[key_remove]\n",
    "        return True\n",
    "    except KeyError:\n",
    "        return False\n",
    "input_dic1 = {'a':1, 'b':2 ,'c':3}\n",
    "k_removed = 'b'\n",
    "is_removed = remove_key_with_del(input_dic1, k_removed)\n",
    "\n",
    "print('Is key removed: ',is_removed)\n",
    "print('Modified dic: ',input_dic1)"
   ]
  },
  {
   "cell_type": "code",
   "execution_count": 201,
   "id": "e68d5f3d-3208-4775-b7f5-40a90b2c9430",
   "metadata": {},
   "outputs": [
    {
     "name": "stdout",
     "output_type": "stream",
     "text": [
      "sorted list:  [{'name': 'Krishna', 'age': 0}, {'name': 'tassang', 'age': 23}, {'name': 'odu', 'age': 100}]\n"
     ]
    }
   ],
   "source": [
    "import operator as op\n",
    "#help(operator.itemgetter)\n",
    "def sort_list_of_dict_by_vals(dic_list, key_to_sort):\n",
    "    sorted_list = sorted(dic_list, key = op.itemgetter(key_to_sort))\n",
    "    return sorted_list\n",
    "#input list of dictionary\n",
    "input_dic_list = [{'name':'Krishna', 'age':0}, {'name':'odu', 'age':100}, {'name':'tassang', 'age':23}]\n",
    "key_to_sort = 'age'\n",
    "sorted_list = sort_list_of_dict_by_vals(input_dic_list, key_to_sort)\n",
    "print('sorted list: ',sorted_list)"
   ]
  },
  {
   "cell_type": "code",
   "execution_count": 207,
   "id": "62b782b8-6f17-4967-bda7-0fbdc17baaae",
   "metadata": {},
   "outputs": [
    {
     "name": "stdout",
     "output_type": "stream",
     "text": [
      "New Merged dictionary:  {'a': 1, 'b': 2, 'c': 3, 'name': 'Krishna', 'age': 0}\n"
     ]
    }
   ],
   "source": [
    "#help(input_dic1.copy) #shallow copy\n",
    "#python program to merge two dictionary\n",
    "def merge_two_dict(dic1, dic2):\n",
    "    merged_dict = dic1.copy()\n",
    "    merged_dict.update(dic2)\n",
    "    return merged_dict\n",
    "dic1 = {'a':1, 'b':2 ,'c':3}\n",
    "dic2 = {'name':'Krishna', 'age':0}\n",
    "\n",
    "#merge two dic\n",
    "merged = merge_two_dict(dic1, dic2)\n",
    "print('New Merged dictionary: ',merged)"
   ]
  },
  {
   "cell_type": "code",
   "execution_count": 14,
   "id": "e9e76665-d9d7-40c3-b187-46eb6a66c051",
   "metadata": {},
   "outputs": [
    {
     "data": {
      "text/plain": [
       "{'a': 1, 'b': 2, 'c': 3, 'd': 4, 'e': 5}"
      ]
     },
     "execution_count": 14,
     "metadata": {},
     "output_type": "execute_result"
    }
   ],
   "source": [
    "#Python program to convert (key,value) tupples list to flat dictionary\n",
    "def flatDictionary_of_key_value_list(data):\n",
    "    flat_dict = {}\n",
    "    for key, value in data:\n",
    "        if key not in flat_dict:\n",
    "            flat_dict[key] = value\n",
    "    return flat_dict\n",
    "#used list comphresion and zip to create data\n",
    "k_list = [(x) for x in 'abcde']\n",
    "v_list = [(y) for y in range(1,len('abcde')+1)]\n",
    "k_v_list = list(zip(test_list,test_list1))\n",
    "\n",
    "#calls\n",
    "flatDictionary_of_key_value_list(k_v_list)"
   ]
  },
  {
   "cell_type": "code",
   "execution_count": 38,
   "id": "154365d5-7468-4b35-8fbf-fabc22528357",
   "metadata": {},
   "outputs": [
    {
     "name": "stdout",
     "output_type": "stream",
     "text": [
      "Modified dict:  OrderedDict({'a': 1, 'b': 2, 'c': 3})\n",
      "['b', 'c']\n"
     ]
    }
   ],
   "source": [
    "#Python program , insertion at the beginning in OrderedDict\n",
    "\n",
    "from collections import OrderedDict as oD\n",
    "\n",
    "def insert_at_beginning(od, k, v):\n",
    "    new_od = oD([(k, v)])\n",
    "    new_od.update(od)\n",
    "    return new_od\n",
    "\n",
    "#inputs\n",
    "\n",
    "inp_od = oD([('b',2), ('c',3)])\n",
    "inp_k = 'a'\n",
    "inp_v = 1\n",
    "\n",
    "#func call\n",
    "modified_od_dict = insert_at_beginning(inp_od, inp_k, inp_v)\n",
    "\n",
    "print('Modified dict: ', modified_od_dict)"
   ]
  },
  {
   "cell_type": "code",
   "execution_count": 46,
   "id": "217ad61a-5a3a-465c-a36d-022ee45d9992",
   "metadata": {},
   "outputs": [
    {
     "name": "stdout",
     "output_type": "stream",
     "text": [
      "{'a': [4, 32, 55], 'b': [2, 5, 13, 67], 'c': [1, 3, 4]}\n"
     ]
    }
   ],
   "source": [
    "#Python - Sort dictionary key and their value list\n",
    "def sort_dict_key_n_value(dic):\n",
    "    sorted_dic = {}\n",
    "    for key in sorted(dic.keys()):\n",
    "        sorted_dic[key] = sorted(dic[key]) #sorted(dic[key]) becoz we alreadying accessed the sorted key and putting it in new dict and n putting sorted value by accessing each key by key and as u get its value so thats it.\n",
    "\n",
    "    return sorted_dic\n",
    "\n",
    "inp_dic1 = {'c':[1,3,4], 'b':[13,5,67,2] ,'a':[4,55,32]}\n",
    "\n",
    "sorted_dic = sort_dict_key_n_value(inp_dic1)\n",
    "print(sorted_dic)"
   ]
  },
  {
   "cell_type": "code",
   "execution_count": 49,
   "id": "fbffe39d-9a1f-4988-8299-45cf376a9441",
   "metadata": {},
   "outputs": [
    {
     "name": "stdout",
     "output_type": "stream",
     "text": [
      "Original:  [('a', 1), ('b', 2), ('c', 3), ('d', 4), ('e', 5)]\n",
      "new converted tup list to dict:  {'a': 1, 'b': 2, 'c': 3, 'd': 4, 'e': 5}\n"
     ]
    }
   ],
   "source": [
    "#Python program to convert list of tuples into dictionary\n",
    "def convert_tup_to_dic(tup_list):\n",
    "    return dict(tup_list)\n",
    "\n",
    "#input list\n",
    "k_list = [(x) for x in 'abcde']\n",
    "v_list = [(y) for y in range(1,len('abcde')+1)]\n",
    "k_v_list = list(zip(test_list,test_list1))\n",
    "\n",
    "#func call\n",
    "converted = convert_tup_to_dic(k_v_list)\n",
    "print('Original: ',k_v_list)\n",
    "print('new converted tup list to dict: ', converted)"
   ]
  },
  {
   "cell_type": "code",
   "execution_count": 126,
   "id": "00e8ee6f-9583-468a-9782-5436930f668b",
   "metadata": {},
   "outputs": [
    {
     "name": "stdout",
     "output_type": "stream",
     "text": [
      "Possible words:  ['def', 'cat', 'dog', 'hage', 'trick', 'cab', 'bad']\n"
     ]
    }
   ],
   "source": [
    "#Python program to find possible words using given characters\n",
    "def possible_words(chaRs, wordL):\n",
    "    possible_words = []\n",
    "\n",
    "    for word in wordL:\n",
    "        valid = False # before was set to True\n",
    "        for char in word:\n",
    "            if char in chaRs: # instead of in it was using not in \n",
    "                valid = True #set to false \n",
    "                # Fucking fixed and made it efficient\n",
    "                break\n",
    "        if valid:\n",
    "            possible_words.append(word)\n",
    "    return possible_words\n",
    "\n",
    "#input char and word list\n",
    "input_char = 'abcd'\n",
    "input_word_list = ['def','cat','dog','hage','off','trick','cab','bad']\n",
    "\n",
    "#Find possible words\n",
    "res_words = possible_words(input_char, input_word_list)\n",
    "print('Possible words: ',res_words)"
   ]
  },
  {
   "cell_type": "code",
   "execution_count": 143,
   "id": "fecb3439-ef4e-41b3-b6ff-d201e2c00853",
   "metadata": {},
   "outputs": [
    {
     "name": "stdout",
     "output_type": "stream",
     "text": [
      "Char in order:  False\n"
     ]
    }
   ],
   "source": [
    "#Python program to check order of character in string using OrderedDict()\n",
    "from collections import OrderedDict as oD # alias using as keyword\n",
    "\n",
    "def check_order_of_string(inp_str):\n",
    "\n",
    "    #creates a orderdict to preserve the insertion order\n",
    "    order_Dic = oD.fromkeys(inp_str)\n",
    "    return inp_str == ''.join(order_Dic) # eg- 'str' == (eg- this is dictionary {'s':None,'s':Default value is set to none by libary,'s':None})| when using .join basically u are iterating over dict keys and making it string\n",
    "\n",
    "#input str=\n",
    "\n",
    "inp_str = 'helllo' # try more input for better understanding\n",
    "\n",
    "is_ordered = check_order_of_string(inp_str)\n",
    "print('Char in order: ',is_ordered)\n",
    "\n",
    "#Uncomment this for help n chunk size doc\n",
    "#help(OrderedDict)\n",
    "#help(OrderedDict.fromkeys)"
   ]
  }
 ],
 "metadata": {
  "kernelspec": {
   "display_name": "Python 3 (ipykernel)",
   "language": "python",
   "name": "python3"
  },
  "language_info": {
   "codemirror_mode": {
    "name": "ipython",
    "version": 3
   },
   "file_extension": ".py",
   "mimetype": "text/x-python",
   "name": "python",
   "nbconvert_exporter": "python",
   "pygments_lexer": "ipython3",
   "version": "3.13.5"
  }
 },
 "nbformat": 4,
 "nbformat_minor": 5
}
