{
 "cells": [
  {
   "cell_type": "code",
   "execution_count": 163,
   "id": "92994671-454f-43e9-9ff2-a3f77fe082a6",
   "metadata": {},
   "outputs": [
    {
     "name": "stdout",
     "output_type": "stream",
     "text": [
      "key associated with value 2: ['b']\n"
     ]
    }
   ],
   "source": [
    "#Python program to find keys associated with that value in dictionary\n",
    "def findKeysWithSameValue(inp_dict, to_find):\n",
    "    k_list = []\n",
    "    for k, v in inp_dict.items():\n",
    "        if v == to_find:\n",
    "            k_list.append(k)\n",
    "            \n",
    "    return k_list\n",
    "\n",
    "\n",
    "#input dict\n",
    "inp_dict = {'a':1,'b':2, 'c':1}\n",
    "val_to_find = 2\n",
    "k_list = findKeysWithSameValue(inp_dict, val_to_find)\n",
    "\n",
    "if k_list:\n",
    "    print('key associated with value {}: {}'.format((val_to_find), k_list))\n",
    "else:\n",
    "    k_list = None\n",
    "    print('key associated with value {}: {}'.format((val_to_find), k_list))"
   ]
  },
  {
   "cell_type": "code",
   "execution_count": 155,
   "id": "ede6e9ff-770b-4a90-8a31-77ad1a286089",
   "metadata": {},
   "outputs": [
    {
     "name": "stdout",
     "output_type": "stream",
     "text": [
      "Unique values:  [1, 2, 3]\n"
     ]
    }
   ],
   "source": [
    "from collections import OrderedDict\n",
    "#function to extract unique values\n",
    "def extract_unique_vals(inpDic):\n",
    "    #create an empty OrderedDic to preserve the order of insertion\n",
    "    unq_val = OrderedDict()\n",
    "    #iterate through each key value pair in the dictionary\n",
    "    for value in inpDic.values():\n",
    "        if value not in unq_val.values(): #with or without .values it will works as u will be setting input dict values as key to ordered dict keys and values set to none in for loop\n",
    "            unq_val[value] = None\n",
    "    return list(unq_val.keys())\n",
    "input_dic = {'a':1, 'b':2 ,'c':1 ,'d':3,'e':2}\n",
    "extract_vals = extract_unique_vals(input_dic)\n",
    "print('Unique values: ',extract_vals)"
   ]
  },
  {
   "cell_type": "code",
   "execution_count": 153,
   "id": "1b099c29-9f9d-426c-b474-76d81ea8a061",
   "metadata": {},
   "outputs": [
    {
     "name": "stdout",
     "output_type": "stream",
     "text": [
      "Summed dictionary:  9\n",
      "Summed dictionary:  9\n",
      "using reduce:  9\n"
     ]
    }
   ],
   "source": [
    "#python program to find the sum of all items in dictionary\n",
    "def sum_all_value_of_keys(dic):\n",
    "    return sum(dic.values())\n",
    "input_dic = {'a':1, 'b':2 ,'c':1 ,'d':3,'e':2}\n",
    "print('Summed dictionary: ',sum_all_value_of_keys(input_dic))\n",
    "\n",
    "#method 2 using for loop\n",
    "def sum_all_value_of_keys1(dic):\n",
    "    summed = 0\n",
    "    for value in dic.values():\n",
    "        summed+=value\n",
    "    return summed\n",
    "print('Summed dictionary: ',sum_all_value_of_keys1(input_dic))\n",
    "\n",
    "#using reduce\n",
    "from functools import reduce\n",
    "def usingReduceToSumDicValue(dic):\n",
    "    dic_val_to_list = [x for x in dic.values()]\n",
    "    summed = reduce(lambda x,y: x+y,dic_val_to_list)\n",
    "    return summed\n",
    "print('using reduce: ',usingReduceToSumDicValue(input_dic))"
   ]
  },
  {
   "cell_type": "code",
   "execution_count": 164,
   "id": "ff27e67f-e694-401a-bbcf-a97966325fd6",
   "metadata": {},
   "outputs": [
    {
     "name": "stdout",
     "output_type": "stream",
     "text": [
      "Is key removed:  True\n",
      "Modified dic:  {'a': 1, 'c': 3}\n"
     ]
    }
   ],
   "source": [
    "#python Ways to remove a key from dictionary-  using del\n",
    "def remove_key_with_del(dic, key_remove):\n",
    "    try:\n",
    "        del dic[key_remove]\n",
    "        return True\n",
    "    except KeyError:\n",
    "        return False\n",
    "input_dic1 = {'a':1, 'b':2 ,'c':3}\n",
    "k_removed = 'b'\n",
    "is_removed = remove_key_with_del(input_dic1, k_removed)\n",
    "\n",
    "print('Is key removed: ',is_removed)\n",
    "print('Modified dic: ',input_dic1)"
   ]
  },
  {
   "cell_type": "code",
   "execution_count": 201,
   "id": "e68d5f3d-3208-4775-b7f5-40a90b2c9430",
   "metadata": {},
   "outputs": [
    {
     "name": "stdout",
     "output_type": "stream",
     "text": [
      "sorted list:  [{'name': 'Krishna', 'age': 0}, {'name': 'tassang', 'age': 23}, {'name': 'odu', 'age': 100}]\n"
     ]
    }
   ],
   "source": [
    "import operator as op\n",
    "#help(operator.itemgetter)\n",
    "def sort_list_of_dict_by_vals(dic_list, key_to_sort):\n",
    "    sorted_list = sorted(dic_list, key = op.itemgetter(key_to_sort))\n",
    "    return sorted_list\n",
    "#input list of dictionary\n",
    "input_dic_list = [{'name':'Krishna', 'age':0}, {'name':'odu', 'age':100}, {'name':'tassang', 'age':23}]\n",
    "key_to_sort = 'age'\n",
    "sorted_list = sort_list_of_dict_by_vals(input_dic_list, key_to_sort)\n",
    "print('sorted list: ',sorted_list)"
   ]
  },
  {
   "cell_type": "code",
   "execution_count": 207,
   "id": "62b782b8-6f17-4967-bda7-0fbdc17baaae",
   "metadata": {},
   "outputs": [
    {
     "name": "stdout",
     "output_type": "stream",
     "text": [
      "New Merged dictionary:  {'a': 1, 'b': 2, 'c': 3, 'name': 'Krishna', 'age': 0}\n"
     ]
    }
   ],
   "source": [
    "#help(input_dic1.copy) #shallow copy\n",
    "#python program to merge two dictionary\n",
    "def merge_two_dict(dic1, dic2):\n",
    "    merged_dict = dic1.copy()\n",
    "    merged_dict.update(dic2)\n",
    "    return merged_dict\n",
    "dic1 = {'a':1, 'b':2 ,'c':3}\n",
    "dic2 = {'name':'Krishna', 'age':0}\n",
    "\n",
    "#merge two dic\n",
    "merged = merge_two_dict(dic1, dic2)\n",
    "print('New Merged dictionary: ',merged)"
   ]
  },
  {
   "cell_type": "code",
   "execution_count": null,
   "id": "e9e76665-d9d7-40c3-b187-46eb6a66c051",
   "metadata": {},
   "outputs": [],
   "source": []
  }
 ],
 "metadata": {
  "kernelspec": {
   "display_name": "Python 3 (ipykernel)",
   "language": "python",
   "name": "python3"
  },
  "language_info": {
   "codemirror_mode": {
    "name": "ipython",
    "version": 3
   },
   "file_extension": ".py",
   "mimetype": "text/x-python",
   "name": "python",
   "nbconvert_exporter": "python",
   "pygments_lexer": "ipython3",
   "version": "3.13.5"
  }
 },
 "nbformat": 4,
 "nbformat_minor": 5
}
