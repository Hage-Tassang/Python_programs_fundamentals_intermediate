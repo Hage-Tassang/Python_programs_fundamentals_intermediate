{
 "cells": [
  {
   "cell_type": "code",
   "execution_count": 4,
   "id": "068e4728-2cce-4fe5-ab93-e93947930638",
   "metadata": {},
   "outputs": [
    {
     "name": "stdin",
     "output_type": "stream",
     "text": [
      "enter the length of the rectangle:  59\n",
      "enter the width of the rectangle:  32\n"
     ]
    },
    {
     "name": "stdout",
     "output_type": "stream",
     "text": [
      "area of rectangle with given input length: 59.0 and witdh: 32.0 --> Area: 1888.0 \n"
     ]
    }
   ],
   "source": [
    "class RectangleArea:\n",
    "    def __init__(self,length, width):\n",
    "        self.lenght = length\n",
    "        self.width = width\n",
    "\n",
    "    def area(self):\n",
    "        return self.lenght * self.width\n",
    "\n",
    "#Input param take user input for dimensions of the rectangle\n",
    "length = float(input(\"enter the length of the rectangle: \"))\n",
    "width = float(input(\"enter the width of the rectangle: \"))\n",
    "\n",
    "#Create an instance for the rectangle\n",
    "rect = RectangleArea(length, width)\n",
    "\n",
    "#Calculate the area of rectangle using the area() method\n",
    "area = rect.area()\n",
    "\n",
    "#Display the area of the rectangle\n",
    "print(f\"area of rectangle with given input length: {length} and witdh: {width} --> Area: {area} \")"
   ]
  }
 ],
 "metadata": {
  "kernelspec": {
   "display_name": "Python 3 (ipykernel)",
   "language": "python",
   "name": "python3"
  },
  "language_info": {
   "codemirror_mode": {
    "name": "ipython",
    "version": 3
   },
   "file_extension": ".py",
   "mimetype": "text/x-python",
   "name": "python",
   "nbconvert_exporter": "python",
   "pygments_lexer": "ipython3",
   "version": "3.13.5"
  }
 },
 "nbformat": 4,
 "nbformat_minor": 5
}
