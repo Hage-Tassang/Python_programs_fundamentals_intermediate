{
 "cells": [
  {
   "cell_type": "code",
   "execution_count": 39,
   "id": "068e4728-2cce-4fe5-ab93-e93947930638",
   "metadata": {},
   "outputs": [
    {
     "name": "stdin",
     "output_type": "stream",
     "text": [
      "enter the length of the rectangle:  3\n",
      "enter the width of the rectangle:  4\n"
     ]
    },
    {
     "name": "stdout",
     "output_type": "stream",
     "text": [
      "area of rectangle with given input length: 3.0 and witdh: 4.0 --> Area: 12.0 \n"
     ]
    }
   ],
   "source": [
    "class RectangleArea:\n",
    "    def __init__(self,length, width):\n",
    "        self.lenght = length\n",
    "        self.width = width\n",
    "\n",
    "    def area(self):\n",
    "        return self.lenght * self.width\n",
    "\n",
    "#Input param take user input for dimensions of the rectangle\n",
    "length = float(input(\"enter the length of the rectangle: \"))\n",
    "width = float(input(\"enter the width of the rectangle: \"))\n",
    "\n",
    "#Create an instance for the rectangle\n",
    "rect = RectangleArea(length, width)\n",
    "\n",
    "#Calculate the area of rectangle using the area() method\n",
    "area = rect.area()\n",
    "\n",
    "#Display the area of the rectangle\n",
    "print(f\"area of rectangle with given input length: {length} and witdh: {width} --> Area: {area} \")"
   ]
  },
  {
   "cell_type": "code",
   "execution_count": 16,
   "id": "aa2353bd-57d0-4fa8-af6f-814acdb7649b",
   "metadata": {},
   "outputs": [
    {
     "name": "stdout",
     "output_type": "stream",
     "text": [
      "Element in the list: \n",
      "0\n",
      "1\n",
      "2\n",
      "3\n",
      "4\n",
      "5\n",
      "6\n",
      "7\n",
      "8\n",
      "9\n",
      "Element in the list: \n",
      "0\n",
      "1\n",
      "2\n",
      "3\n",
      "4\n",
      "6\n",
      "7\n",
      "8\n",
      "9\n"
     ]
    }
   ],
   "source": [
    "#Python program to append, delete, and display elements of a list using classes\n",
    "class ListOperations:\n",
    "    def __init__(self):\n",
    "        self.my_list = []\n",
    "\n",
    "    def add_element(self,element):\n",
    "        return self.my_list.append(element)\n",
    "    def delete_element(self,element):\n",
    "        if element in self.my_list:\n",
    "            self.my_list.remove(element)\n",
    "        else:\n",
    "            print(\"Element not found in the list\")\n",
    "\n",
    "    def display_element(self):\n",
    "        if not self.my_list:\n",
    "            print(\"List is empty\")\n",
    "        else:\n",
    "            print(\"Element in the list: \")\n",
    "            for element in self.my_list:\n",
    "                print(element)\n",
    "\n",
    "list_op = ListOperations()\n",
    "_  = [list_op.add_element(x) for x in range(10)]\n",
    "list_op.display_element()\n",
    "\n",
    "list_op.delete_element(5)\n",
    "list_op.display_element()"
   ]
  },
  {
   "cell_type": "code",
   "execution_count": 17,
   "id": "01db9354-5a22-4c73-8d02-124e03cd1ee9",
   "metadata": {},
   "outputs": [
    {
     "name": "stdin",
     "output_type": "stream",
     "text": [
      "enter your desired radius of circle:  5\n"
     ]
    },
    {
     "name": "stdout",
     "output_type": "stream",
     "text": [
      "area of circle:  78.5\n",
      "perimeter of circle:  31.400000000000002\n"
     ]
    }
   ],
   "source": [
    "#Python program to create a class and compute the area and perimeter of the circle\n",
    "class Circle:\n",
    "    def __init__(self, radius):\n",
    "        self.radius = radius\n",
    "        self.pi = 3.14\n",
    "    def area(self):\n",
    "        return self.pi * self.radius  * self.radius\n",
    "    def perimeter(self):\n",
    "        return 2 * self.pi * self.radius\n",
    "\n",
    "#create and instance of circle class\n",
    "radii = int(input('enter your desired radius of circle: '))\n",
    "circle = Circle(radii)\n",
    "print(\"area of circle: \", circle.area())\n",
    "print(\"perimeter of circle: \", circle.perimeter())"
   ]
  },
  {
   "cell_type": "code",
   "execution_count": 19,
   "id": "abc948c9-03ec-4779-81a4-601a3d57882c",
   "metadata": {},
   "outputs": [
    {
     "name": "stdout",
     "output_type": "stream",
     "text": [
      "add two number 5\n",
      "subtract two number -1\n",
      "mulitply two number 6\n",
      "divide two number 0.6666666666666666\n"
     ]
    }
   ],
   "source": [
    "#Python program to create a class which performs basic calculator operations\n",
    "class Calculator:\n",
    "    def add(self,x, y):\n",
    "        return x + y\n",
    "    def subtract(self, x, y):\n",
    "        return x - y\n",
    "    def multiply(self, x, y):\n",
    "        return x * y\n",
    "    def divide(self, x, y):\n",
    "        if y == 0:\n",
    "            return \"cannot  divide by zero\"\n",
    "        else:\n",
    "            return x / y\n",
    "\n",
    "calc = Calculator()\n",
    "print(f'add two number {calc.add(2,3)}')\n",
    "print(f'subtract two number {calc.subtract(2,3)}')\n",
    "print(f'mulitply two number {calc.multiply(2,3)}')\n",
    "print(f'divide two number {calc.divide(2,3)}')"
   ]
  },
  {
   "cell_type": "code",
   "execution_count": 22,
   "id": "929a1214-a9ce-45cc-8098-62d054e52e76",
   "metadata": {},
   "outputs": [
    {
     "name": "stdin",
     "output_type": "stream",
     "text": [
      "enter a string:  \n"
     ]
    },
    {
     "data": {
      "text/plain": [
       "'Entered string '"
      ]
     },
     "execution_count": 22,
     "metadata": {},
     "output_type": "execute_result"
    }
   ],
   "source": [
    "#Python program to create a class in which one method accepts a string from the user and another prints it\n",
    "class StringManipulator:\n",
    "    def __init__(self):\n",
    "        self.input_string = \"\"\n",
    "    def accept_string(self):\n",
    "        self.input_string = input(\"enter a string: \")\n",
    "    def display_string(self):\n",
    "        return \"Entered string \" + self.input_string\n",
    "\n",
    "string_manipulator = StringManipulator()\n",
    "\n",
    "string_manipulator.accept_string()\n",
    "\n",
    "string_manipulator.display_string()"
   ]
  },
  {
   "cell_type": "code",
   "execution_count": 25,
   "id": "295df2ae-890b-4067-a3a3-f95dc77da127",
   "metadata": {},
   "outputs": [
    {
     "name": "stdout",
     "output_type": "stream",
     "text": [
      "All possible subsets:  [[], [0], [1], [0, 1], [2], [0, 2], [1, 2], [0, 1, 2]]\n"
     ]
    }
   ],
   "source": [
    "#Python program to create a class and get all possible subsets from a set of distinct integer\n",
    "class Subsets:\n",
    "    def __init__(self):\n",
    "        self.result = [[]]\n",
    "    def get_subsets(self, nums_list):\n",
    "        for nums in nums_list:\n",
    "            self.result += [curr + [nums] for curr in self.result]\n",
    "        return self.result\n",
    "#create an instance of the subsets class\n",
    "subset = Subsets()\n",
    "\n",
    "#define the set of distinct integers\n",
    "num_list = [0,1,2]\n",
    "\n",
    "#get all possible subsets\n",
    "print('All possible subsets: ', subset.get_subsets(num_list))"
   ]
  },
  {
   "cell_type": "code",
   "execution_count": 38,
   "id": "5f8007c8-88a6-409d-8964-a212aa0ecffb",
   "metadata": {},
   "outputs": [
    {
     "name": "stdin",
     "output_type": "stream",
     "text": [
      "enter a number to convert into roman numerals:  32\n"
     ]
    },
    {
     "data": {
      "text/plain": [
       "'int 32 in roman numeral is XXXII'"
      ]
     },
     "execution_count": 38,
     "metadata": {},
     "output_type": "execute_result"
    }
   ],
   "source": [
    "#Python program to convert integers to a roman numerals\n",
    "class IntergerToRomanNumberal:\n",
    "    def __init__(self,num):\n",
    "        self.symbols  = [\n",
    "        (1000, 'M'),\n",
    "        (900, 'CM'),\n",
    "        (500, 'D'),\n",
    "        (400, 'CD'),\n",
    "        (100, 'C'),\n",
    "        (90, 'XC'),\n",
    "        (50, 'L'),\n",
    "        (40, 'XL'),\n",
    "        (10, 'X'),\n",
    "        (9, 'IX'),\n",
    "        (5, 'V'),\n",
    "        (4, 'IV'),\n",
    "        (1, 'I')\n",
    "        ]\n",
    "        self.num = num\n",
    "        self.intVal = num\n",
    "        self.roman = \"\"\n",
    "\n",
    "    def convert_to_roman(self):\n",
    "        for value, symbol in self.symbols:\n",
    "            while self.num >= value:\n",
    "                self.roman += symbol\n",
    "                self.num -= value\n",
    "        return f\"int {self.intVal} in roman numeral is \" + self.roman\n",
    "input_int = int(input(\"enter a number to convert into roman numerals: \")) \n",
    "int_to_roman = IntergerToRomanNumberal(input_int)\n",
    "int_to_roman.convert_to_roman()\n",
    "        "
   ]
  },
  {
   "cell_type": "code",
   "execution_count": 4,
   "id": "c0eaf853-8147-4d01-812b-f7065f51f03b",
   "metadata": {},
   "outputs": [
    {
     "name": "stdin",
     "output_type": "stream",
     "text": [
      "Enter a roman number:  xl\n"
     ]
    },
    {
     "name": "stdout",
     "output_type": "stream",
     "text": [
      "Integer value of roman no. XL in integer form 40\n"
     ]
    }
   ],
   "source": [
    "#Python program to convert a roman numeral to an integer\n",
    "def roman_to_int(roman):\n",
    "    roman_dict = {'I':1,'V':5,'X':10,'L':50,'C':100,'D':500,'M':1000}\n",
    "    result = 0\n",
    "    prev_value = 0\n",
    "    for char in reversed(roman):\n",
    "        value = roman_dict[char]\n",
    "        if value < prev_value:\n",
    "            result -= value\n",
    "        else:\n",
    "            result += value\n",
    "        prev_value = value\n",
    "    return f'Integer value of roman no. {roman} in integer form {result}'\n",
    "roman_numeral = input(\"Enter a roman number: \").upper()\n",
    "roman_to_interger = roman_to_int(roman_numeral)\n",
    "print(roman_to_interger)"
   ]
  },
  {
   "cell_type": "code",
   "execution_count": 7,
   "id": "0230eddf-b86e-4b46-a74f-a738317cdfc5",
   "metadata": {},
   "outputs": [
    {
     "name": "stdin",
     "output_type": "stream",
     "text": [
      "enter a integer value:  4567\n"
     ]
    },
    {
     "name": "stdout",
     "output_type": "stream",
     "text": [
      "int 4567 in roman form MMMMDLXVII\n"
     ]
    }
   ],
   "source": [
    "#Python program to convert integers to a roman numerals- method 2 using two set of list and floor divison\n",
    "def int_to_roman(num):\n",
    "    val = [1000,900,500,400,100,90,50,40,10,9,5,4,1]\n",
    "    syms = ['M', 'CM', 'D', 'CD', 'C', 'XC', 'L','XL','X', 'IX', 'V','IV' ,'I']\n",
    "    roman_numeral = \"\"\n",
    "    i = 0\n",
    "    while num > 0:\n",
    "        for _ in range(num//val[i]):\n",
    "            roman_numeral+= syms[i]\n",
    "            num -= val[i]\n",
    "        i+=1\n",
    "    return roman_numeral\n",
    "\n",
    "num = int(input(\"enter a integer value: \"))\n",
    "to_romanNumerals = int_to_roman(num)\n",
    "print(f'int {num} in roman form {to_romanNumerals}')\n",
    "\n",
    "'''EXPLANATION BELOW HAD TO USE AI TO UNDERSTAND CODE LOGIC OF THE LOOP HOW USING // THIS TO FIND VALUE FOR forloop TO RUN AND APPENDE CHAR OF ROMAN NUMBERS '''"
   ]
  },
  {
   "cell_type": "markdown",
   "id": "4ca73a0e-9900-42d8-b804-0fc33a8276c0",
   "metadata": {},
   "source": [
    "Concrete example: num = 14\n",
    "i = 0, val[i] = 1000; 14 // 1000 = 0 -> no iteration, move on\n",
    "\n",
    "i = 1, val[i] = 900; 14 // 900 = 0 -> no iteration\n",
    "\n",
    "...\n",
    "\n",
    "i = 8, val[i] = 10; 14 // 10 = 1\n",
    "\n",
    "Append 'X' once -> roman_numeral = 'X'\n",
    "\n",
    "num = 14 - 10 = 4\n",
    "\n",
    "i = 9, val[i] = 9; 4 // 9 = 0 -> no iteration\n",
    "\n",
    "i = 10, val[i] = 5; 4 // 5 = 0 -> no iteration\n",
    "\n",
    "i = 11, val[i] = 4; 4 // 4 = 1\n",
    "\n",
    "Append 'IV' once -> roman_numeral = 'XIV'\n",
    "\n",
    "num = 4 - 4 = 0\n",
    "\n",
    "num is now 0, so the while loop exits\n",
    "\n",
    "\n",
    "\n",
    "Outer while loop (while num > 0:): Runs until the entire number is converted (when num becomes 0).\n",
    "\n",
    "Inner for loop (for _ in range(num // val[i]):):\n",
    "\n",
    "num // val[i] computes how many times the current Roman value fits into the remaining number.\n",
    "\n",
    "For example, if num = 14 and val[i] = 10, then range(14 // 10) becomes range(1), so the loop will execute once.\n",
    "\n",
    "Inside for loop:\n",
    "\n",
    "Appends the current Roman symbol syms[i] to the result string.\n",
    "\n",
    "Subtracts the value val[i] from num.\n",
    "\n",
    "After finishing this inner loop (i.e., after appending the Roman symbol as many times as it fits), i increments to move to the next lower Roman numeral."
   ]
  }
 ],
 "metadata": {
  "kernelspec": {
   "display_name": "Python 3 (ipykernel)",
   "language": "python",
   "name": "python3"
  },
  "language_info": {
   "codemirror_mode": {
    "name": "ipython",
    "version": 3
   },
   "file_extension": ".py",
   "mimetype": "text/x-python",
   "name": "python",
   "nbconvert_exporter": "python",
   "pygments_lexer": "ipython3",
   "version": "3.13.5"
  }
 },
 "nbformat": 4,
 "nbformat_minor": 5
}
