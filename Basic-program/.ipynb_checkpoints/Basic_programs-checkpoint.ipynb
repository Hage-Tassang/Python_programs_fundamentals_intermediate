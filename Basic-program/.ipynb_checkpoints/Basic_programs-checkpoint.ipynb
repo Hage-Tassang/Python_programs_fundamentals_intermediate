{
 "cells": [
  {
   "cell_type": "code",
   "execution_count": 18,
   "id": "805703a9-272a-4e24-b6ff-43610ce10755",
   "metadata": {},
   "outputs": [
    {
     "name": "stdin",
     "output_type": "stream",
     "text": [
      "enter two x and y num:  \n"
     ]
    },
    {
     "ename": "ValueError",
     "evalue": "invalid literal for int() with base 10: ''",
     "output_type": "error",
     "traceback": [
      "\u001b[31m---------------------------------------------------------------------------\u001b[39m",
      "\u001b[31mValueError\u001b[39m                                Traceback (most recent call last)",
      "\u001b[36mCell\u001b[39m\u001b[36m \u001b[39m\u001b[32mIn[18]\u001b[39m\u001b[32m, line 3\u001b[39m\n\u001b[32m      1\u001b[39m \u001b[38;5;66;03m# add two number provided by user input\u001b[39;00m\n\u001b[32m----> \u001b[39m\u001b[32m3\u001b[39m x= \u001b[38;5;28;43mint\u001b[39;49m\u001b[43m(\u001b[49m\u001b[38;5;28;43minput\u001b[39;49m\u001b[43m(\u001b[49m\u001b[33;43m\"\u001b[39;49m\u001b[33;43menter two x and y num: \u001b[39;49m\u001b[33;43m\"\u001b[39;49m\u001b[43m)\u001b[49m\u001b[43m)\u001b[49m\n\u001b[32m      4\u001b[39m y= \u001b[38;5;28mint\u001b[39m(\u001b[38;5;28minput\u001b[39m(\u001b[33m\"\u001b[39m\u001b[33menter two x and y num: \u001b[39m\u001b[33m\"\u001b[39m))\n\u001b[32m      5\u001b[39m result = \u001b[38;5;28;01mlambda\u001b[39;00m x,y:x+y\n",
      "\u001b[31mValueError\u001b[39m: invalid literal for int() with base 10: ''"
     ]
    }
   ],
   "source": [
    "# add two number provided by user input\n",
    "\n",
    "x= int(input(\"enter two x and y num: \"))\n",
    "y= int(input(\"enter two x and y num: \"))\n",
    "result = lambda x,y:x+y\n",
    "print('Answer: ',result(x,y))"
   ]
  },
  {
   "cell_type": "code",
   "execution_count": 19,
   "id": "eff57f8b-93c7-4343-a5cb-2036cf85faee",
   "metadata": {},
   "outputs": [
    {
     "name": "stdin",
     "output_type": "stream",
     "text": [
      "enter two x and y num:  4\n",
      "enter two x and y num:  6\n"
     ]
    },
    {
     "name": "stdout",
     "output_type": "stream",
     "text": [
      "bigger number is:  6\n"
     ]
    }
   ],
   "source": [
    "# find the maximum\n",
    "x= int(input(\"enter two x and y num: \"))\n",
    "y= int(input(\"enter two x and y num: \"))\n",
    "maax = max(x,y)\n",
    "print(\"bigger number is: \",maax)"
   ]
  },
  {
   "cell_type": "code",
   "execution_count": 30,
   "id": "6f037811-c621-4d80-8d4b-17cac61c6893",
   "metadata": {},
   "outputs": [
    {
     "name": "stdin",
     "output_type": "stream",
     "text": [
      "enter a number:  -1\n"
     ]
    },
    {
     "name": "stdout",
     "output_type": "stream",
     "text": [
      "negative number arent allowed\n"
     ]
    }
   ],
   "source": [
    "#factorial of a number\n",
    "# using recursive technique\n",
    "\n",
    "def fact(n):\n",
    "    if n==1:\n",
    "        return 1\n",
    "    else:\n",
    "        return n*fact(n-1)\n",
    "\n",
    "x= int(input(\"enter a number: \"))\n",
    "if x <0:\n",
    "    print(\"negative number arent allowed\")\n",
    "elif x == 0:\n",
    "    print('fact of zero is 0')\n",
    "else:\n",
    "    print(f'fact of number {x} is {fact(x)}')"
   ]
  },
  {
   "cell_type": "code",
   "execution_count": 32,
   "id": "0e29a19d-8966-48f5-9980-9ff1634e27bf",
   "metadata": {},
   "outputs": [
    {
     "name": "stdin",
     "output_type": "stream",
     "text": [
      "enter princip:  5\n",
      "enter rate:  3.4\n",
      "enter time:  2\n"
     ]
    },
    {
     "name": "stdout",
     "output_type": "stream",
     "text": [
      "simple interest:  0.34\n"
     ]
    }
   ],
   "source": [
    "# simple interest calculation\n",
    "def si_calc(p,r,t):\n",
    "    si = (p*r*t) / 100\n",
    "    return si\n",
    "\n",
    "p = float(input(\"enter princip: \"))\n",
    "rate = float(input(\"enter rate: \"))\n",
    "time = float(input(\"enter time: \"))\n",
    "\n",
    "si = si_calc(p,rate,time)\n",
    "print(\"simple interest: \",si)"
   ]
  },
  {
   "cell_type": "code",
   "execution_count": 38,
   "id": "7be53dd4-4bd1-4613-b12d-6f4802be389d",
   "metadata": {},
   "outputs": [
    {
     "name": "stdout",
     "output_type": "stream",
     "text": [
      "['Barbara', 'Ashli', 'Jakob', 'Deshaun', 'Ricardo', 'Elsa', 'Kalista', 'Esteban', 'Camryn', 'Miguelangel']\n",
      "Belinda Jakob Marcella Deshaun Karlie Ricardo Nyla Elsa Eric Kalista Leandra Esteban Joan Camryn Destinee Miguelangel\n"
     ]
    }
   ],
   "source": [
    "# extract the last name from given list\n",
    "names = ['Sonja Barbara', 'Bradly Ashli', 'Belinda Jakob', 'Marcella Deshaun', 'Karlie Ricardo', 'Nyla Elsa', 'Eric Kalista', 'Leandra Esteban', 'Joan Camryn', 'Destinee Miguelangel']\n",
    "last_n =  [x.split(' ') [-1] for x in names]\n",
    "print(last_n)\n",
    "\n",
    "#unpacking method demo\n",
    "#item1,item2,*remain = names\n",
    "#print(*remain)"
   ]
  },
  {
   "cell_type": "code",
   "execution_count": 39,
   "id": "5daf9796-424b-49b9-9985-7a335f1fa00b",
   "metadata": {},
   "outputs": [
    {
     "name": "stdin",
     "output_type": "stream",
     "text": [
      "enter princip:  100\n",
      "enter rate:  30\n",
      "enter time:  2\n"
     ]
    },
    {
     "name": "stdout",
     "output_type": "stream",
     "text": [
      "compound interest:  69.00000000000003\n"
     ]
    }
   ],
   "source": [
    "# calculate compound interest\n",
    "def ci_calc(p,r,t):\n",
    "    amount = p * (pow((1+rate/100),time))\n",
    "    interest = amount - p\n",
    "    return interest\n",
    "\n",
    "p = float(input(\"enter princip: \"))\n",
    "rate = float(input(\"enter rate: \"))\n",
    "time = float(input(\"enter time: \"))\n",
    "compoundInterest = ci_calc(p,rate,time)\n",
    "print(\"compound interest: \",compoundInterest)"
   ]
  },
  {
   "cell_type": "code",
   "execution_count": 67,
   "id": "f33e4017-6f77-4af3-a6ef-c5da58e0b510",
   "metadata": {},
   "outputs": [
    {
     "data": {
      "text/plain": [
       "'not armstrong'"
      ]
     },
     "execution_count": 67,
     "metadata": {},
     "output_type": "execute_result"
    }
   ],
   "source": [
    "# buggy one\n",
    "def armstrongCheck(n):\n",
    "    temp = n\n",
    "    l = list(str(n))\n",
    "    count = 0\n",
    "    res = 0\n",
    "    if n < 0:\n",
    "        return \"negative number\"\n",
    "    elif n==0:\n",
    "        return \"zero is not armstrong\"\n",
    "    else:\n",
    "        for i in l:\n",
    "            count = int(i)**3\n",
    "            res+=count\n",
    "    return 'yes armstrong' if l == res else \"not armstrong\"\n",
    "armstrongCheck(153)"
   ]
  },
  {
   "cell_type": "code",
   "execution_count": 70,
   "id": "116a9705-23c9-4184-9e61-d6739c3a2e9f",
   "metadata": {},
   "outputs": [
    {
     "name": "stdout",
     "output_type": "stream",
     "text": [
      "yes armstrong\n",
      "yes armstrong\n",
      "not armstrong\n"
     ]
    }
   ],
   "source": [
    "# fixed version\n",
    "def armstrongCheck(n):\n",
    "    if n < 0:\n",
    "        return \"negative number\"\n",
    "    elif n == 0:\n",
    "        return \"zero is not armstrong\"\n",
    "    else:\n",
    "        digits = list(str(n))\n",
    "        num_digits = len(digits)\n",
    "        res = 0\n",
    "        for i in digits:\n",
    "            res += int(i) ** num_digits\n",
    "        return 'yes armstrong' if res == n else \"not armstrong\"\n",
    "\n",
    "print(armstrongCheck(153))  # Output: yes armstrong\n",
    "print(armstrongCheck(9474)) # Output: yes armstrong\n",
    "print(armstrongCheck(123))  # Output: not armstrong\n"
   ]
  },
  {
   "cell_type": "code",
   "execution_count": 72,
   "id": "b0751b13-82ac-4158-a13b-ee9a92663674",
   "metadata": {},
   "outputs": [
    {
     "name": "stdin",
     "output_type": "stream",
     "text": [
      "enter a desired radi:  4\n"
     ]
    },
    {
     "name": "stdout",
     "output_type": "stream",
     "text": [
      "area of circle 50.24\n"
     ]
    }
   ],
   "source": [
    "# find the area of circle\n",
    "radius = float(input(\"enter a desired radi: \"))\n",
    "pi = 3.14\n",
    "sqred_raddi = pow(radius,2)\n",
    "area_of_circle = (pi * sqred_raddi)\n",
    "print(f\"area of circle {area_of_circle}\")"
   ]
  },
  {
   "cell_type": "code",
   "execution_count": 76,
   "id": "4eba5db1-d65d-4d16-9be9-496076bf2340",
   "metadata": {},
   "outputs": [
    {
     "name": "stdin",
     "output_type": "stream",
     "text": [
      "enter a start interval 3\n",
      "enter a end interval 11\n"
     ]
    },
    {
     "name": "stdout",
     "output_type": "stream",
     "text": [
      "Prime number between start interval 3 and end interval 11\n",
      "3\n",
      "5\n",
      "7\n",
      "11\n"
     ]
    },
    {
     "name": "stdin",
     "output_type": "stream",
     "text": [
      "Enter the start of the interval:  3\n",
      "Enter the end of the interval:  11\n"
     ]
    },
    {
     "name": "stdout",
     "output_type": "stream",
     "text": [
      "Prime numbers between 3 and 11 are:\n",
      "3\n",
      "5\n",
      "7\n",
      "11\n"
     ]
    }
   ],
   "source": [
    "# print all prime between in an interval\n",
    "# user input\n",
    "\n",
    "start = int(input(\"enter a start interval\")) \n",
    "end = int(input(\"enter a end interval\"))\n",
    "print(f\"Prime number between start interval {start} and end interval {end}\")\n",
    "for num in range(start, end + 1):               # Outer loop: check every number from start to end (inclusive)\n",
    "    if num > 1:                                # Only numbers greater than 1 can be prime\n",
    "        for i in range(2, int(num**0.5) + 1): # Inner loop: check divisors from 2 to sqrt(num)\n",
    "            if (num % i) == 0:                 # If num divisible by i, it is NOT prime\n",
    "                break                         # Exit inner loop early since it's not prime\n",
    "        else:                                # This else belongs to the for-loop, executed only if no break happens\n",
    "            print(num)                       # If no divisor found (no break), print num as prime\n",
    "\n",
    "\n",
    "\n",
    "# other method\n",
    "start1 = int(input(\"Enter the start of the interval: \"))\n",
    "end1 = int(input(\"Enter the end of the interval: \"))\n",
    "\n",
    "print(f\"Prime numbers between {start1} and {end1} are:\")\n",
    "\n",
    "for nums in range(start1, end1 + 1):\n",
    "    if nums > 1:\n",
    "        is_prime = True\n",
    "        for i in range(2, nums):\n",
    "            if nums % i == 0:\n",
    "                is_prime = False\n",
    "                break\n",
    "        if is_prime:\n",
    "            print(nums)\n"
   ]
  },
  {
   "cell_type": "markdown",
   "id": "067c9147-be69-41b5-a7a4-43d03e34f041",
   "metadata": {},
   "source": [
    "Example:\n",
    "For num = 7:\n",
    "\n",
    "Inner loop tests i=2, i=3 (because sqrt(7) ~ 2.64)\n",
    "\n",
    "Neither 7 % 2 nor 7%3 is 0, so no break occurs.\n",
    "\n",
    "The else block runs, printing 7 as prime.\n",
    "\n",
    "For num = 8:\n",
    "\n",
    "Inner loop tests i=2\n",
    "\n",
    "8 % 2 == 0, so break occurs.\n",
    "\n",
    "The else block is skipped, and 8 is not printed.\n",
    "\n",
    "This logic correctly prints all primes in the interval.\n",
    "\n",
    "\n",
    "    Explanation:\n",
    "The outer for loop: iterates over every number num from start to end inclusive.\n",
    "\n",
    "The if num > 1 check: prime numbers are greater than 1, so numbers <= 1 are automatically skipped.\n",
    "\n",
    "The inner for loop: tests if num is divisible by any number i from 2 up to the square root of num (rounded down).\n",
    "\n",
    "Checking only up to \n",
    "n\n",
    "u\n",
    "m\n",
    "num\n",
    "  is enough because if num has a factor greater than its square root, it must also have one smaller than it.\n",
    "\n",
    "The inner loop has an if condition:\n",
    "\n",
    "If num % i == 0, it means num is divisible by i, so num is not prime.\n",
    "\n",
    "The break exits the inner loop immediately.\n",
    "\n",
    "The else clause on the inner for loop (important Python feature):\n",
    "\n",
    "This else executes only if the inner loop completes without a break.\n",
    "\n",
    "That means no divisors were found, so num is prime.\n",
    "\n",
    "In that case, the number num is printed."
   ]
  },
  {
   "cell_type": "code",
   "execution_count": 83,
   "id": "5650950e-bdb5-4bf4-b83a-35de8b5cc1a4",
   "metadata": {},
   "outputs": [
    {
     "name": "stdin",
     "output_type": "stream",
     "text": [
      "Enter a number:  7\n"
     ]
    },
    {
     "name": "stdout",
     "output_type": "stream",
     "text": [
      "7 is a prime number.\n"
     ]
    }
   ],
   "source": [
    "# check if its a prime number\n",
    "def is_prime(n):\n",
    "    if n <= 1:\n",
    "        return False  # Not prime\n",
    "    for i in range(2, n-1):  # Check all numbers from 2 to n-1\n",
    "        if n % i == 0:\n",
    "            return False  # Divisible by i, not prime\n",
    "    return True  # No divisors found, prime\n",
    "\n",
    "# Example usage:\n",
    "number = int(input(\"Enter a number: \"))\n",
    "if is_prime(number):\n",
    "    print(f\"{number} is a prime number.\")\n",
    "else:\n",
    "    print(f\"{number} is not a prime number.\")\n"
   ]
  },
  {
   "cell_type": "code",
   "execution_count": 89,
   "id": "e758a87a-a82d-4062-b9ba-6a39648ffb63",
   "metadata": {},
   "outputs": [
    {
     "name": "stdin",
     "output_type": "stream",
     "text": [
      "Enter a number:  11\n"
     ]
    },
    {
     "name": "stdout",
     "output_type": "stream",
     "text": [
      "The 11 ,n-th fibonacci number is 89\n"
     ]
    }
   ],
   "source": [
    "# fibonacci number upto nth number\n",
    "def fibo(n):\n",
    "    if n<=1:\n",
    "        return n\n",
    "    else:\n",
    "        return fibo(n-1) + fibo(n-2)\n",
    "\n",
    "number = int(input(\"Enter a number: \"))\n",
    "print(f'The {number} ,n-th fibonacci number is {fibo(number)}')"
   ]
  },
  {
   "cell_type": "markdown",
   "id": "ef3db1b8-440a-4df4-baff-c940ecab705c",
   "metadata": {},
   "source": [
    "Example: Calculating fibo(4)\n",
    "fibo(4) calls:\n",
    "\n",
    "fibo(3)\n",
    "\n",
    "fibo(2)\n",
    "\n",
    "fibo(3) calls:\n",
    "\n",
    "fibo(2)\n",
    "\n",
    "fibo(1)\n",
    "\n",
    "fibo(2) calls:\n",
    "\n",
    "fibo(1)\n",
    "\n",
    "fibo(0)\n",
    "\n",
    "Base cases:\n",
    "\n",
    "fibo(1) returns 1\n",
    "\n",
    "fibo(0) returns 0\n",
    "\n",
    "Now the function sums back up the tree:\n",
    "\n",
    "fibo(2) = 1 + 0 = 1\n",
    "\n",
    "fibo(3) = fibo(2) + fibo(1) = 1 + 1 = 2\n",
    "\n",
    "fibo(4) = fibo(3) + fibo(2) = 2 + 1 = 3\n"
   ]
  },
  {
   "cell_type": "markdown",
   "id": "f2e698a1-e875-49ca-aace-04606ea5ab36",
   "metadata": {},
   "source": [
    "Imagine a game of building blocks:\n",
    "You start with one block (this is fibo(0) = 0 blocks) and another block (fibo(1) = 1 block).\n",
    "\n",
    "To get the next number of blocks, you add the number of blocks you got last time plus the number of blocks you got the time before last.\n",
    "\n",
    "How the function works with recursion (like taking steps back in the game):\n",
    "You want to know how many blocks are in step n.\n",
    "\n",
    "If the step is 0 or 1, you just know the answer (0 blocks or 1 block).\n",
    "\n",
    "If the step is bigger than 1, you pause and ask:\n",
    "\n",
    "\"How many blocks in step n-1?\"\n",
    "\n",
    "\"How many blocks in step n-2?\"\n",
    "\n",
    "You wait for the answers from these two smaller steps.\n",
    "\n",
    "Then you add those two answers together. That’s your answer for step n!\n",
    "\n",
    "On paper, if you want to find fibo(4):\n",
    "First, find fibo(3) and fibo(2).\n",
    "\n",
    "To find fibo(3), find fibo(2) and fibo(1).\n",
    "\n",
    "To find fibo(2), find fibo(1) and fibo(0).\n",
    "\n",
    "You already know fibo(1) = 1 and fibo(0) = 0.\n",
    "\n",
    "Then add up like this:\n",
    "\n",
    "Step\tAnswer\n",
    "fibo(0)\t0\n",
    "fibo(1)\t1\n",
    "fibo(2)\tfibo(1) + fibo(0) = 1\n",
    "fibo(3)\tfibo(2) + fibo(1) = 2\n",
    "fibo(4)\tfibo(3) + fibo(2) = 3\n",
    "Summary for a 5-year-old:\n",
    "To find the blocks at step 4, add blocks from step 3 and step 2.\n",
    "\n",
    "To find step 3, add blocks from step 2 and step 1.\n",
    "\n",
    "Keep doing this until you reach step 0 or 1, which you already know.\n",
    "\n",
    "Then add all the answers back up!"
   ]
  },
  {
   "cell_type": "code",
   "execution_count": 94,
   "id": "e61b39b9-ca07-4fe6-ae9e-1b696cac9b71",
   "metadata": {},
   "outputs": [
    {
     "name": "stdout",
     "output_type": "stream",
     "text": [
      "2\n",
      "4\n",
      "False\n"
     ]
    }
   ],
   "source": [
    "#testing\n",
    "import math\n",
    "def is_perfect_square(x):\n",
    "    s = int(math.sqrt(x))\n",
    "    print(s)\n",
    "    print(s*s)\n",
    "    return s * s == x\n",
    "print(is_perfect_square(5))"
   ]
  },
  {
   "cell_type": "code",
   "execution_count": null,
   "id": "8e56e905-3a76-4cc2-a432-fa222bef879e",
   "metadata": {},
   "outputs": [],
   "source": [
    "# check if a given number is a fibonacci sequence\n",
    "import math\n",
    "\n",
    "def is_perfect_square(x):\n",
    "    s = int(math.sqrt(x))\n",
    "    return s * s == x\n",
    "\n",
    "def is_fibonacci(n):\n",
    "    return is_perfect_square(5 * n * n + 4) or is_perfect_square(5 * n * n - 4)\n",
    "\n",
    "number = int(input(\"Enter a number: \"))\n",
    "if is_fibonacci(number):\n",
    "    print(f\"{number} is a Fibonacci number\")\n",
    "else:\n",
    "    print(f\"{number} is not a Fibonacci number\")\n"
   ]
  },
  {
   "cell_type": "markdown",
   "id": "4c1fe4a9-3be9-460f-bd2d-577aaa64b09e",
   "metadata": {},
   "source": [
    "The Story of Counting Rabbits (Fibonacci Numbers)\n",
    "Imagine you want to know how many baby rabbits are there in month n.\n",
    "\n",
    "If it's month 0, there are 0 rabbits (no babies yet).\n",
    "\n",
    "If it's month 1, there is 1 rabbit (the first baby).\n",
    "\n",
    "For any other month, the number of baby rabbits is the sum of baby rabbits from the previous month plus the month before that.\n",
    "\n",
    "How the function calls itself:\n",
    "You ask: \"How many rabbits in month n?\"\n",
    "\n",
    "If it's month 0 or 1, you get the answer right away (0 or 1).\n",
    "\n",
    "If not, you ask:\n",
    "\n",
    "\"How many rabbits in month n-1?\"\n",
    "\n",
    "\"How many rabbits in month n-2?\"\n",
    "\n",
    "But to answer those, you ask even smaller months the same question.\n",
    "\n",
    "This keeps going until you reach month 0 or 1.\n",
    "\n",
    "When those answers come back, you add them together to get the answer for month n.\n",
    "\n",
    "Step by Step example for month 4:\n",
    "To know rabbits in month 4, ask for month 3 and month 2.\n",
    "\n",
    "To know month 3 rabbits, ask for month 2 and month 1.\n",
    "\n",
    "Month 2 rabbits ask for month 1 and month 0.\n",
    "\n",
    "For month 1, answer is 1.\n",
    "\n",
    "For month 0, answer is 0.\n",
    "\n",
    "Now add back up:\n",
    "\n",
    "Month 2 rabbits = 1 + 0 = 1\n",
    "\n",
    "Month 3 rabbits = Month 2 + Month 1 = 1 + 1 = 2\n",
    "\n",
    "Month 4 rabbits = Month 3 + Month 2 = 2 + 1 = 3\n",
    "\n",
    "Visual analogy:\n",
    "Imagine a little tree with branches:\n",
    "\n",
    "text\n",
    "            fibo(4)\n",
    "           /       \\\n",
    "      fibo(3)     fibo(2)\n",
    "       /    \\       /    \\\n",
    "  fibo(2) fibo(1) fibo(1) fibo(0)\n",
    "   /    \\       (1)       (0)\n",
    "fib(1) fib(0)\n",
    " (1)    (0)\n",
    "Each branch asks smaller questions.\n",
    "\n",
    "When it hits fibo(1) or fibo(0), it stops and gives answers.\n",
    "\n",
    "Answers come up the tree, adding at each step."
   ]
  },
  {
   "cell_type": "code",
   "execution_count": 4,
   "id": "05f1f981-45df-49ab-9e0e-700070a37647",
   "metadata": {},
   "outputs": [
    {
     "name": "stdin",
     "output_type": "stream",
     "text": [
      "enter a number 2\n",
      "enter a number 3\n"
     ]
    },
    {
     "name": "stdout",
     "output_type": "stream",
     "text": [
      "the 2 th multiple of 3 is 21 \n"
     ]
    }
   ],
   "source": [
    "#find the nth multiple of a number of a fibonacci series\n",
    "def find_nth_multiple(n,number):\n",
    "    fib = [0,1]\n",
    "    i = 2\n",
    "    while True:\n",
    "        fib.append(fib[i-1] + fib[i-2])\n",
    "        if fib[i] % number == 0:\n",
    "            n-=1\n",
    "            if n==0:\n",
    "                return fib[i]\n",
    "        i +=1\n",
    "\n",
    "n = int(input(\"enter a number\"))\n",
    "number = int(input(\"enter a number\"))\n",
    "print(f'the {n} th multiple of {number} is {find_nth_multiple(n,number)} ')    \n",
    "    "
   ]
  },
  {
   "cell_type": "code",
   "execution_count": 8,
   "id": "6d4693f7-b545-49f5-b3fb-004c88a403db",
   "metadata": {},
   "outputs": [
    {
     "name": "stdout",
     "output_type": "stream",
     "text": [
      "21\n"
     ]
    }
   ],
   "source": [
    "def find_nth_multiple_in_fibonacci(n, m):\n",
    "    # Start with the first two Fibonacci numbers\n",
    "    a, b = 0, 1\n",
    "    count = 0  # How many multiples we found\n",
    "\n",
    "    while True:\n",
    "        a, b = b, a + b  # Find the next Fibonacci number\n",
    "\n",
    "        # Check if this Fibonacci number is divisible by m\n",
    "        if b % m == 0:\n",
    "            count += 1  # We found a multiple!\n",
    "\n",
    "            # If we found the nth multiple, return it\n",
    "            if count == n:\n",
    "                return b\n",
    "\n",
    "# Example: Find the 3rd Fibonacci number that is multiple of 4\n",
    "result = find_nth_multiple_in_fibonacci(2, 3)\n",
    "print(result)\n"
   ]
  },
  {
   "cell_type": "code",
   "execution_count": 16,
   "id": "705b8227-0f4a-4ad6-8f83-80f3a4e90e87",
   "metadata": {},
   "outputs": [
    {
     "name": "stdin",
     "output_type": "stream",
     "text": [
      "enter a letter character:  t\n"
     ]
    },
    {
     "name": "stdout",
     "output_type": "stream",
     "text": [
      "ASCII char of t is 116\n"
     ]
    }
   ],
   "source": [
    "# python program to print ascci value of character\n",
    "\n",
    "user = input('enter a letter character: ')\n",
    "print(f'ASCII char of {user} is {ord(user)}')"
   ]
  },
  {
   "cell_type": "code",
   "execution_count": 18,
   "id": "ba568586-6713-44ca-a20a-a61f0bd4f554",
   "metadata": {},
   "outputs": [
    {
     "name": "stdin",
     "output_type": "stream",
     "text": [
      "enter a number 5\n"
     ]
    },
    {
     "name": "stdout",
     "output_type": "stream",
     "text": [
      "the sum of first 5 natural number is 55\n"
     ]
    }
   ],
   "source": [
    "# sum of the sqrs of of first n natural number\n",
    "def sum_ofSqrs(n):\n",
    "    return n * (n + 1) * (2* n + 1) //6\n",
    "n = int(input(\"enter a number\"))\n",
    "print(f'the sum of first {n} natural number is {sum_ofSqrs(n)}')"
   ]
  },
  {
   "cell_type": "code",
   "execution_count": 19,
   "id": "119aa545-9d26-4ff9-b792-5843e4bcc739",
   "metadata": {},
   "outputs": [
    {
     "name": "stdin",
     "output_type": "stream",
     "text": [
      "enter a number 5\n"
     ]
    },
    {
     "name": "stdout",
     "output_type": "stream",
     "text": [
      "cubes of first 5 sum is 225\n"
     ]
    }
   ],
   "source": [
    "# sum of cube of first n natural numbers\n",
    "\n",
    "def sum_cubes(n):\n",
    "    return ((n * (n+1)) //2) **2\n",
    "n = int(input(\"enter a number\"))\n",
    "print(f'cubes of first {n} sum is {sum_cubes(n)}')"
   ]
  },
  {
   "cell_type": "code",
   "execution_count": null,
   "id": "71f284e0-1dfb-4475-b7c3-a2d6a5d0df97",
   "metadata": {},
   "outputs": [],
   "source": []
  },
  {
   "cell_type": "code",
   "execution_count": null,
   "id": "059ccba4-3b42-470d-9c32-e63972f3c394",
   "metadata": {},
   "outputs": [],
   "source": []
  },
  {
   "cell_type": "code",
   "execution_count": null,
   "id": "29747e11-bb65-4461-93ea-bd6f4e4577bc",
   "metadata": {},
   "outputs": [],
   "source": []
  },
  {
   "cell_type": "code",
   "execution_count": null,
   "id": "64dcaf99-a4d6-48d7-843d-366f3b695b87",
   "metadata": {},
   "outputs": [],
   "source": []
  },
  {
   "cell_type": "code",
   "execution_count": null,
   "id": "44cffce9-830c-422f-89db-336869bf91de",
   "metadata": {},
   "outputs": [],
   "source": []
  },
  {
   "cell_type": "code",
   "execution_count": null,
   "id": "efaa081c-5b97-40b0-bf11-52c2f5320ac8",
   "metadata": {},
   "outputs": [],
   "source": []
  },
  {
   "cell_type": "code",
   "execution_count": null,
   "id": "355b4362-9de9-45b0-b347-ac4e2e64e141",
   "metadata": {},
   "outputs": [],
   "source": []
  }
 ],
 "metadata": {
  "kernelspec": {
   "display_name": "Python 3 (ipykernel)",
   "language": "python",
   "name": "python3"
  },
  "language_info": {
   "codemirror_mode": {
    "name": "ipython",
    "version": 3
   },
   "file_extension": ".py",
   "mimetype": "text/x-python",
   "name": "python",
   "nbconvert_exporter": "python",
   "pygments_lexer": "ipython3",
   "version": "3.13.5"
  }
 },
 "nbformat": 4,
 "nbformat_minor": 5
}
